{
  "nbformat": 4,
  "nbformat_minor": 0,
  "metadata": {
    "colab": {
      "provenance": [],
      "authorship_tag": "ABX9TyNz2rrflwNoAR+ArcDtfcZ3",
      "include_colab_link": true
    },
    "kernelspec": {
      "name": "python3",
      "display_name": "Python 3"
    },
    "language_info": {
      "name": "python"
    }
  },
  "cells": [
    {
      "cell_type": "markdown",
      "metadata": {
        "id": "view-in-github",
        "colab_type": "text"
      },
      "source": [
        "<a href=\"https://colab.research.google.com/github/Reshma-2005/ACM-TASK-RESHMA/blob/main/Binary_Classification.ipynb\" target=\"_parent\"><img src=\"https://colab.research.google.com/assets/colab-badge.svg\" alt=\"Open In Colab\"/></a>"
      ]
    },
    {
      "cell_type": "code",
      "execution_count": 1,
      "metadata": {
        "id": "p86xsJ9F-HC_"
      },
      "outputs": [],
      "source": [
        "import pandas as pd\n",
        "import numpy as np\n",
        "\n",
        "data=pd.read_csv('https://raw.githubusercontent.com/Reshma-2005/ACM-TASK-RESHMA/refs/heads/main/csv%20files/winequality-red.csv')"
      ]
    },
    {
      "cell_type": "code",
      "source": [
        "print(data.shape)"
      ],
      "metadata": {
        "colab": {
          "base_uri": "https://localhost:8080/"
        },
        "id": "9Jt3Pq0g-cDQ",
        "outputId": "1611c123-c103-41e4-b34b-cf0fab3b4aa7"
      },
      "execution_count": 2,
      "outputs": [
        {
          "output_type": "stream",
          "name": "stdout",
          "text": [
            "(1599, 12)\n"
          ]
        }
      ]
    },
    {
      "cell_type": "code",
      "source": [
        "data.head()\n",
        "#to print the first 5 rows of the dataset"
      ],
      "metadata": {
        "colab": {
          "base_uri": "https://localhost:8080/",
          "height": 206
        },
        "id": "buZ4kY5Z-hbu",
        "outputId": "406eae8e-69bf-4d8c-b738-86ddad34fdb5"
      },
      "execution_count": 3,
      "outputs": [
        {
          "output_type": "execute_result",
          "data": {
            "text/plain": [
              "   fixed acidity  volatile acidity  citric acid  residual sugar  chlorides  \\\n",
              "0            7.4              0.70         0.00             1.9      0.076   \n",
              "1            7.8              0.88         0.00             2.6      0.098   \n",
              "2            7.8              0.76         0.04             2.3      0.092   \n",
              "3           11.2              0.28         0.56             1.9      0.075   \n",
              "4            7.4              0.70         0.00             1.9      0.076   \n",
              "\n",
              "   free sulfur dioxide  total sulfur dioxide  density    pH  sulphates  \\\n",
              "0                 11.0                  34.0   0.9978  3.51       0.56   \n",
              "1                 25.0                  67.0   0.9968  3.20       0.68   \n",
              "2                 15.0                  54.0   0.9970  3.26       0.65   \n",
              "3                 17.0                  60.0   0.9980  3.16       0.58   \n",
              "4                 11.0                  34.0   0.9978  3.51       0.56   \n",
              "\n",
              "   alcohol  quality  \n",
              "0      9.4        5  \n",
              "1      9.8        5  \n",
              "2      9.8        5  \n",
              "3      9.8        6  \n",
              "4      9.4        5  "
            ],
            "text/html": [
              "\n",
              "  <div id=\"df-a202766d-f090-4c72-8edd-a621235a515d\" class=\"colab-df-container\">\n",
              "    <div>\n",
              "<style scoped>\n",
              "    .dataframe tbody tr th:only-of-type {\n",
              "        vertical-align: middle;\n",
              "    }\n",
              "\n",
              "    .dataframe tbody tr th {\n",
              "        vertical-align: top;\n",
              "    }\n",
              "\n",
              "    .dataframe thead th {\n",
              "        text-align: right;\n",
              "    }\n",
              "</style>\n",
              "<table border=\"1\" class=\"dataframe\">\n",
              "  <thead>\n",
              "    <tr style=\"text-align: right;\">\n",
              "      <th></th>\n",
              "      <th>fixed acidity</th>\n",
              "      <th>volatile acidity</th>\n",
              "      <th>citric acid</th>\n",
              "      <th>residual sugar</th>\n",
              "      <th>chlorides</th>\n",
              "      <th>free sulfur dioxide</th>\n",
              "      <th>total sulfur dioxide</th>\n",
              "      <th>density</th>\n",
              "      <th>pH</th>\n",
              "      <th>sulphates</th>\n",
              "      <th>alcohol</th>\n",
              "      <th>quality</th>\n",
              "    </tr>\n",
              "  </thead>\n",
              "  <tbody>\n",
              "    <tr>\n",
              "      <th>0</th>\n",
              "      <td>7.4</td>\n",
              "      <td>0.70</td>\n",
              "      <td>0.00</td>\n",
              "      <td>1.9</td>\n",
              "      <td>0.076</td>\n",
              "      <td>11.0</td>\n",
              "      <td>34.0</td>\n",
              "      <td>0.9978</td>\n",
              "      <td>3.51</td>\n",
              "      <td>0.56</td>\n",
              "      <td>9.4</td>\n",
              "      <td>5</td>\n",
              "    </tr>\n",
              "    <tr>\n",
              "      <th>1</th>\n",
              "      <td>7.8</td>\n",
              "      <td>0.88</td>\n",
              "      <td>0.00</td>\n",
              "      <td>2.6</td>\n",
              "      <td>0.098</td>\n",
              "      <td>25.0</td>\n",
              "      <td>67.0</td>\n",
              "      <td>0.9968</td>\n",
              "      <td>3.20</td>\n",
              "      <td>0.68</td>\n",
              "      <td>9.8</td>\n",
              "      <td>5</td>\n",
              "    </tr>\n",
              "    <tr>\n",
              "      <th>2</th>\n",
              "      <td>7.8</td>\n",
              "      <td>0.76</td>\n",
              "      <td>0.04</td>\n",
              "      <td>2.3</td>\n",
              "      <td>0.092</td>\n",
              "      <td>15.0</td>\n",
              "      <td>54.0</td>\n",
              "      <td>0.9970</td>\n",
              "      <td>3.26</td>\n",
              "      <td>0.65</td>\n",
              "      <td>9.8</td>\n",
              "      <td>5</td>\n",
              "    </tr>\n",
              "    <tr>\n",
              "      <th>3</th>\n",
              "      <td>11.2</td>\n",
              "      <td>0.28</td>\n",
              "      <td>0.56</td>\n",
              "      <td>1.9</td>\n",
              "      <td>0.075</td>\n",
              "      <td>17.0</td>\n",
              "      <td>60.0</td>\n",
              "      <td>0.9980</td>\n",
              "      <td>3.16</td>\n",
              "      <td>0.58</td>\n",
              "      <td>9.8</td>\n",
              "      <td>6</td>\n",
              "    </tr>\n",
              "    <tr>\n",
              "      <th>4</th>\n",
              "      <td>7.4</td>\n",
              "      <td>0.70</td>\n",
              "      <td>0.00</td>\n",
              "      <td>1.9</td>\n",
              "      <td>0.076</td>\n",
              "      <td>11.0</td>\n",
              "      <td>34.0</td>\n",
              "      <td>0.9978</td>\n",
              "      <td>3.51</td>\n",
              "      <td>0.56</td>\n",
              "      <td>9.4</td>\n",
              "      <td>5</td>\n",
              "    </tr>\n",
              "  </tbody>\n",
              "</table>\n",
              "</div>\n",
              "    <div class=\"colab-df-buttons\">\n",
              "\n",
              "  <div class=\"colab-df-container\">\n",
              "    <button class=\"colab-df-convert\" onclick=\"convertToInteractive('df-a202766d-f090-4c72-8edd-a621235a515d')\"\n",
              "            title=\"Convert this dataframe to an interactive table.\"\n",
              "            style=\"display:none;\">\n",
              "\n",
              "  <svg xmlns=\"http://www.w3.org/2000/svg\" height=\"24px\" viewBox=\"0 -960 960 960\">\n",
              "    <path d=\"M120-120v-720h720v720H120Zm60-500h600v-160H180v160Zm220 220h160v-160H400v160Zm0 220h160v-160H400v160ZM180-400h160v-160H180v160Zm440 0h160v-160H620v160ZM180-180h160v-160H180v160Zm440 0h160v-160H620v160Z\"/>\n",
              "  </svg>\n",
              "    </button>\n",
              "\n",
              "  <style>\n",
              "    .colab-df-container {\n",
              "      display:flex;\n",
              "      gap: 12px;\n",
              "    }\n",
              "\n",
              "    .colab-df-convert {\n",
              "      background-color: #E8F0FE;\n",
              "      border: none;\n",
              "      border-radius: 50%;\n",
              "      cursor: pointer;\n",
              "      display: none;\n",
              "      fill: #1967D2;\n",
              "      height: 32px;\n",
              "      padding: 0 0 0 0;\n",
              "      width: 32px;\n",
              "    }\n",
              "\n",
              "    .colab-df-convert:hover {\n",
              "      background-color: #E2EBFA;\n",
              "      box-shadow: 0px 1px 2px rgba(60, 64, 67, 0.3), 0px 1px 3px 1px rgba(60, 64, 67, 0.15);\n",
              "      fill: #174EA6;\n",
              "    }\n",
              "\n",
              "    .colab-df-buttons div {\n",
              "      margin-bottom: 4px;\n",
              "    }\n",
              "\n",
              "    [theme=dark] .colab-df-convert {\n",
              "      background-color: #3B4455;\n",
              "      fill: #D2E3FC;\n",
              "    }\n",
              "\n",
              "    [theme=dark] .colab-df-convert:hover {\n",
              "      background-color: #434B5C;\n",
              "      box-shadow: 0px 1px 3px 1px rgba(0, 0, 0, 0.15);\n",
              "      filter: drop-shadow(0px 1px 2px rgba(0, 0, 0, 0.3));\n",
              "      fill: #FFFFFF;\n",
              "    }\n",
              "  </style>\n",
              "\n",
              "    <script>\n",
              "      const buttonEl =\n",
              "        document.querySelector('#df-a202766d-f090-4c72-8edd-a621235a515d button.colab-df-convert');\n",
              "      buttonEl.style.display =\n",
              "        google.colab.kernel.accessAllowed ? 'block' : 'none';\n",
              "\n",
              "      async function convertToInteractive(key) {\n",
              "        const element = document.querySelector('#df-a202766d-f090-4c72-8edd-a621235a515d');\n",
              "        const dataTable =\n",
              "          await google.colab.kernel.invokeFunction('convertToInteractive',\n",
              "                                                    [key], {});\n",
              "        if (!dataTable) return;\n",
              "\n",
              "        const docLinkHtml = 'Like what you see? Visit the ' +\n",
              "          '<a target=\"_blank\" href=https://colab.research.google.com/notebooks/data_table.ipynb>data table notebook</a>'\n",
              "          + ' to learn more about interactive tables.';\n",
              "        element.innerHTML = '';\n",
              "        dataTable['output_type'] = 'display_data';\n",
              "        await google.colab.output.renderOutput(dataTable, element);\n",
              "        const docLink = document.createElement('div');\n",
              "        docLink.innerHTML = docLinkHtml;\n",
              "        element.appendChild(docLink);\n",
              "      }\n",
              "    </script>\n",
              "  </div>\n",
              "\n",
              "\n",
              "<div id=\"df-aad26b0f-017c-4110-812f-84312465fccb\">\n",
              "  <button class=\"colab-df-quickchart\" onclick=\"quickchart('df-aad26b0f-017c-4110-812f-84312465fccb')\"\n",
              "            title=\"Suggest charts\"\n",
              "            style=\"display:none;\">\n",
              "\n",
              "<svg xmlns=\"http://www.w3.org/2000/svg\" height=\"24px\"viewBox=\"0 0 24 24\"\n",
              "     width=\"24px\">\n",
              "    <g>\n",
              "        <path d=\"M19 3H5c-1.1 0-2 .9-2 2v14c0 1.1.9 2 2 2h14c1.1 0 2-.9 2-2V5c0-1.1-.9-2-2-2zM9 17H7v-7h2v7zm4 0h-2V7h2v10zm4 0h-2v-4h2v4z\"/>\n",
              "    </g>\n",
              "</svg>\n",
              "  </button>\n",
              "\n",
              "<style>\n",
              "  .colab-df-quickchart {\n",
              "      --bg-color: #E8F0FE;\n",
              "      --fill-color: #1967D2;\n",
              "      --hover-bg-color: #E2EBFA;\n",
              "      --hover-fill-color: #174EA6;\n",
              "      --disabled-fill-color: #AAA;\n",
              "      --disabled-bg-color: #DDD;\n",
              "  }\n",
              "\n",
              "  [theme=dark] .colab-df-quickchart {\n",
              "      --bg-color: #3B4455;\n",
              "      --fill-color: #D2E3FC;\n",
              "      --hover-bg-color: #434B5C;\n",
              "      --hover-fill-color: #FFFFFF;\n",
              "      --disabled-bg-color: #3B4455;\n",
              "      --disabled-fill-color: #666;\n",
              "  }\n",
              "\n",
              "  .colab-df-quickchart {\n",
              "    background-color: var(--bg-color);\n",
              "    border: none;\n",
              "    border-radius: 50%;\n",
              "    cursor: pointer;\n",
              "    display: none;\n",
              "    fill: var(--fill-color);\n",
              "    height: 32px;\n",
              "    padding: 0;\n",
              "    width: 32px;\n",
              "  }\n",
              "\n",
              "  .colab-df-quickchart:hover {\n",
              "    background-color: var(--hover-bg-color);\n",
              "    box-shadow: 0 1px 2px rgba(60, 64, 67, 0.3), 0 1px 3px 1px rgba(60, 64, 67, 0.15);\n",
              "    fill: var(--button-hover-fill-color);\n",
              "  }\n",
              "\n",
              "  .colab-df-quickchart-complete:disabled,\n",
              "  .colab-df-quickchart-complete:disabled:hover {\n",
              "    background-color: var(--disabled-bg-color);\n",
              "    fill: var(--disabled-fill-color);\n",
              "    box-shadow: none;\n",
              "  }\n",
              "\n",
              "  .colab-df-spinner {\n",
              "    border: 2px solid var(--fill-color);\n",
              "    border-color: transparent;\n",
              "    border-bottom-color: var(--fill-color);\n",
              "    animation:\n",
              "      spin 1s steps(1) infinite;\n",
              "  }\n",
              "\n",
              "  @keyframes spin {\n",
              "    0% {\n",
              "      border-color: transparent;\n",
              "      border-bottom-color: var(--fill-color);\n",
              "      border-left-color: var(--fill-color);\n",
              "    }\n",
              "    20% {\n",
              "      border-color: transparent;\n",
              "      border-left-color: var(--fill-color);\n",
              "      border-top-color: var(--fill-color);\n",
              "    }\n",
              "    30% {\n",
              "      border-color: transparent;\n",
              "      border-left-color: var(--fill-color);\n",
              "      border-top-color: var(--fill-color);\n",
              "      border-right-color: var(--fill-color);\n",
              "    }\n",
              "    40% {\n",
              "      border-color: transparent;\n",
              "      border-right-color: var(--fill-color);\n",
              "      border-top-color: var(--fill-color);\n",
              "    }\n",
              "    60% {\n",
              "      border-color: transparent;\n",
              "      border-right-color: var(--fill-color);\n",
              "    }\n",
              "    80% {\n",
              "      border-color: transparent;\n",
              "      border-right-color: var(--fill-color);\n",
              "      border-bottom-color: var(--fill-color);\n",
              "    }\n",
              "    90% {\n",
              "      border-color: transparent;\n",
              "      border-bottom-color: var(--fill-color);\n",
              "    }\n",
              "  }\n",
              "</style>\n",
              "\n",
              "  <script>\n",
              "    async function quickchart(key) {\n",
              "      const quickchartButtonEl =\n",
              "        document.querySelector('#' + key + ' button');\n",
              "      quickchartButtonEl.disabled = true;  // To prevent multiple clicks.\n",
              "      quickchartButtonEl.classList.add('colab-df-spinner');\n",
              "      try {\n",
              "        const charts = await google.colab.kernel.invokeFunction(\n",
              "            'suggestCharts', [key], {});\n",
              "      } catch (error) {\n",
              "        console.error('Error during call to suggestCharts:', error);\n",
              "      }\n",
              "      quickchartButtonEl.classList.remove('colab-df-spinner');\n",
              "      quickchartButtonEl.classList.add('colab-df-quickchart-complete');\n",
              "    }\n",
              "    (() => {\n",
              "      let quickchartButtonEl =\n",
              "        document.querySelector('#df-aad26b0f-017c-4110-812f-84312465fccb button');\n",
              "      quickchartButtonEl.style.display =\n",
              "        google.colab.kernel.accessAllowed ? 'block' : 'none';\n",
              "    })();\n",
              "  </script>\n",
              "</div>\n",
              "\n",
              "    </div>\n",
              "  </div>\n"
            ],
            "application/vnd.google.colaboratory.intrinsic+json": {
              "type": "dataframe",
              "summary": "{\n  \"name\": \"#to print the first 5 rows of the dataset\",\n  \"rows\": 5,\n  \"fields\": [\n    {\n      \"column\": \"fixed acidity\",\n      \"properties\": {\n        \"dtype\": \"number\",\n        \"std\": 1.6223439832538593,\n        \"min\": 7.4,\n        \"max\": 11.2,\n        \"num_unique_values\": 3,\n        \"samples\": [\n          7.4,\n          7.8,\n          11.2\n        ],\n        \"semantic_type\": \"\",\n        \"description\": \"\"\n      }\n    },\n    {\n      \"column\": \"volatile acidity\",\n      \"properties\": {\n        \"dtype\": \"number\",\n        \"std\": 0.22689204481426842,\n        \"min\": 0.28,\n        \"max\": 0.88,\n        \"num_unique_values\": 4,\n        \"samples\": [\n          0.88,\n          0.28,\n          0.7\n        ],\n        \"semantic_type\": \"\",\n        \"description\": \"\"\n      }\n    },\n    {\n      \"column\": \"citric acid\",\n      \"properties\": {\n        \"dtype\": \"number\",\n        \"std\": 0.24657656011875909,\n        \"min\": 0.0,\n        \"max\": 0.56,\n        \"num_unique_values\": 3,\n        \"samples\": [\n          0.0,\n          0.04,\n          0.56\n        ],\n        \"semantic_type\": \"\",\n        \"description\": \"\"\n      }\n    },\n    {\n      \"column\": \"residual sugar\",\n      \"properties\": {\n        \"dtype\": \"number\",\n        \"std\": 0.31937438845342636,\n        \"min\": 1.9,\n        \"max\": 2.6,\n        \"num_unique_values\": 3,\n        \"samples\": [\n          1.9,\n          2.6,\n          2.3\n        ],\n        \"semantic_type\": \"\",\n        \"description\": \"\"\n      }\n    },\n    {\n      \"column\": \"chlorides\",\n      \"properties\": {\n        \"dtype\": \"number\",\n        \"std\": 0.010807404868885038,\n        \"min\": 0.075,\n        \"max\": 0.098,\n        \"num_unique_values\": 4,\n        \"samples\": [\n          0.098,\n          0.075,\n          0.076\n        ],\n        \"semantic_type\": \"\",\n        \"description\": \"\"\n      }\n    },\n    {\n      \"column\": \"free sulfur dioxide\",\n      \"properties\": {\n        \"dtype\": \"number\",\n        \"std\": 5.761944116355173,\n        \"min\": 11.0,\n        \"max\": 25.0,\n        \"num_unique_values\": 4,\n        \"samples\": [\n          25.0,\n          17.0,\n          11.0\n        ],\n        \"semantic_type\": \"\",\n        \"description\": \"\"\n      }\n    },\n    {\n      \"column\": \"total sulfur dioxide\",\n      \"properties\": {\n        \"dtype\": \"number\",\n        \"std\": 15.139352694220449,\n        \"min\": 34.0,\n        \"max\": 67.0,\n        \"num_unique_values\": 4,\n        \"samples\": [\n          67.0,\n          60.0,\n          34.0\n        ],\n        \"semantic_type\": \"\",\n        \"description\": \"\"\n      }\n    },\n    {\n      \"column\": \"density\",\n      \"properties\": {\n        \"dtype\": \"number\",\n        \"std\": 0.0005403702434442519,\n        \"min\": 0.9968,\n        \"max\": 0.998,\n        \"num_unique_values\": 4,\n        \"samples\": [\n          0.9968,\n          0.998,\n          0.9978\n        ],\n        \"semantic_type\": \"\",\n        \"description\": \"\"\n      }\n    },\n    {\n      \"column\": \"pH\",\n      \"properties\": {\n        \"dtype\": \"number\",\n        \"std\": 0.16991174179555674,\n        \"min\": 3.16,\n        \"max\": 3.51,\n        \"num_unique_values\": 4,\n        \"samples\": [\n          3.2,\n          3.16,\n          3.51\n        ],\n        \"semantic_type\": \"\",\n        \"description\": \"\"\n      }\n    },\n    {\n      \"column\": \"sulphates\",\n      \"properties\": {\n        \"dtype\": \"number\",\n        \"std\": 0.05549774770204643,\n        \"min\": 0.56,\n        \"max\": 0.68,\n        \"num_unique_values\": 4,\n        \"samples\": [\n          0.68,\n          0.58,\n          0.56\n        ],\n        \"semantic_type\": \"\",\n        \"description\": \"\"\n      }\n    },\n    {\n      \"column\": \"alcohol\",\n      \"properties\": {\n        \"dtype\": \"number\",\n        \"std\": 0.21908902300206665,\n        \"min\": 9.4,\n        \"max\": 9.8,\n        \"num_unique_values\": 2,\n        \"samples\": [\n          9.8,\n          9.4\n        ],\n        \"semantic_type\": \"\",\n        \"description\": \"\"\n      }\n    },\n    {\n      \"column\": \"quality\",\n      \"properties\": {\n        \"dtype\": \"number\",\n        \"std\": 0,\n        \"min\": 5,\n        \"max\": 6,\n        \"num_unique_values\": 2,\n        \"samples\": [\n          6,\n          5\n        ],\n        \"semantic_type\": \"\",\n        \"description\": \"\"\n      }\n    }\n  ]\n}"
            }
          },
          "metadata": {},
          "execution_count": 3
        }
      ]
    },
    {
      "cell_type": "code",
      "source": [
        "print(type(data))\n",
        "#we checked which data type the data is in.\n",
        "# we should change it into numpy data"
      ],
      "metadata": {
        "colab": {
          "base_uri": "https://localhost:8080/"
        },
        "id": "Tf05IYCNNb7w",
        "outputId": "058b1e04-fdf9-49ae-9cd3-9d7f725c5975"
      },
      "execution_count": 4,
      "outputs": [
        {
          "output_type": "stream",
          "name": "stdout",
          "text": [
            "<class 'pandas.core.frame.DataFrame'>\n"
          ]
        }
      ]
    },
    {
      "cell_type": "code",
      "source": [
        "data=np.loadtxt('https://raw.githubusercontent.com/Reshma-2005/ACM-TASK-RESHMA/refs/heads/main/csv%20files/winequality-red.csv',delimiter=',',skiprows=1)\n",
        "#delimiter is used for seperating the values in data\n",
        "#skips the mentioned no of rows"
      ],
      "metadata": {
        "id": "kJWHOFUjN8oQ"
      },
      "execution_count": 5,
      "outputs": []
    },
    {
      "cell_type": "code",
      "source": [
        "np.set_printoptions(formatter={'float':lambda x:\"{0:0.2f}\".format(x)})\n",
        "print(data[0:5,:])\n",
        "#that function is used to\n",
        "#0.2f shows the data with decimal to 2 units"
      ],
      "metadata": {
        "colab": {
          "base_uri": "https://localhost:8080/"
        },
        "id": "3xZa7jV8_ft2",
        "outputId": "97df117f-e3f1-4757-8b1d-cff90254ccd2"
      },
      "execution_count": 6,
      "outputs": [
        {
          "output_type": "stream",
          "name": "stdout",
          "text": [
            "[[7.40 0.70 0.00 1.90 0.08 11.00 34.00 1.00 3.51 0.56 9.40 5.00]\n",
            " [7.80 0.88 0.00 2.60 0.10 25.00 67.00 1.00 3.20 0.68 9.80 5.00]\n",
            " [7.80 0.76 0.04 2.30 0.09 15.00 54.00 1.00 3.26 0.65 9.80 5.00]\n",
            " [11.20 0.28 0.56 1.90 0.07 17.00 60.00 1.00 3.16 0.58 9.80 6.00]\n",
            " [7.40 0.70 0.00 1.90 0.08 11.00 34.00 1.00 3.51 0.56 9.40 5.00]]\n"
          ]
        }
      ]
    },
    {
      "cell_type": "code",
      "source": [
        "data[data[:,-1]<5.5,-1]=0\n",
        "data[data[:,-1]>=5.5,-1]=1\n",
        "print(data)\n",
        "\n",
        "#we converted the last column into binary values\n",
        "#since we are classifying the data based on the quality of the wine"
      ],
      "metadata": {
        "id": "x5xX5DugCKAm",
        "colab": {
          "base_uri": "https://localhost:8080/"
        },
        "outputId": "0fa6f5d9-2f7a-4380-f070-4ef5d2a2a20e"
      },
      "execution_count": 7,
      "outputs": [
        {
          "output_type": "stream",
          "name": "stdout",
          "text": [
            "[[7.40 0.70 0.00 ... 0.56 9.40 0.00]\n",
            " [7.80 0.88 0.00 ... 0.68 9.80 0.00]\n",
            " [7.80 0.76 0.04 ... 0.65 9.80 0.00]\n",
            " ...\n",
            " [6.30 0.51 0.13 ... 0.75 11.00 1.00]\n",
            " [5.90 0.65 0.12 ... 0.71 10.20 0.00]\n",
            " [6.00 0.31 0.47 ... 0.66 11.00 1.00]]\n"
          ]
        }
      ]
    },
    {
      "cell_type": "code",
      "source": [
        "print(data[0:10,:])"
      ],
      "metadata": {
        "colab": {
          "base_uri": "https://localhost:8080/"
        },
        "id": "spRch5pNO3NO",
        "outputId": "c089afbb-a1bb-48f8-ed38-eb7d5be78a54"
      },
      "execution_count": 8,
      "outputs": [
        {
          "output_type": "stream",
          "name": "stdout",
          "text": [
            "[[7.40 0.70 0.00 1.90 0.08 11.00 34.00 1.00 3.51 0.56 9.40 0.00]\n",
            " [7.80 0.88 0.00 2.60 0.10 25.00 67.00 1.00 3.20 0.68 9.80 0.00]\n",
            " [7.80 0.76 0.04 2.30 0.09 15.00 54.00 1.00 3.26 0.65 9.80 0.00]\n",
            " [11.20 0.28 0.56 1.90 0.07 17.00 60.00 1.00 3.16 0.58 9.80 1.00]\n",
            " [7.40 0.70 0.00 1.90 0.08 11.00 34.00 1.00 3.51 0.56 9.40 0.00]\n",
            " [7.40 0.66 0.00 1.80 0.07 13.00 40.00 1.00 3.51 0.56 9.40 0.00]\n",
            " [7.90 0.60 0.06 1.60 0.07 15.00 59.00 1.00 3.30 0.46 9.40 0.00]\n",
            " [7.30 0.65 0.00 1.20 0.07 15.00 21.00 0.99 3.39 0.47 10.00 1.00]\n",
            " [7.80 0.58 0.02 2.00 0.07 9.00 18.00 1.00 3.36 0.57 9.50 1.00]\n",
            " [7.50 0.50 0.36 6.10 0.07 17.00 102.00 1.00 3.35 0.80 10.50 0.00]]\n"
          ]
        }
      ]
    },
    {
      "cell_type": "code",
      "source": [
        "index=int(0.2*len(data[:,0]))\n",
        "print(index)\n",
        "#20 percent for validation,and remaining for training the model"
      ],
      "metadata": {
        "colab": {
          "base_uri": "https://localhost:8080/"
        },
        "id": "ASIVzxRjPk65",
        "outputId": "eb49f8de-9c5a-41a7-89a3-666223f49a77"
      },
      "execution_count": 9,
      "outputs": [
        {
          "output_type": "stream",
          "name": "stdout",
          "text": [
            "319\n"
          ]
        }
      ]
    },
    {
      "cell_type": "code",
      "source": [
        "X_val=data[:index,0:-1]\n",
        "Y_val=data[:index,-1]\n",
        "\n",
        "X_train=data[index:,0:-1]\n",
        "Y_train=data[index:,-1]\n",
        "\n",
        "#input:X_val and X_train\n",
        "#output:Y_val and Y_train"
      ],
      "metadata": {
        "id": "lBNyb0W2RXr_"
      },
      "execution_count": 10,
      "outputs": []
    },
    {
      "cell_type": "code",
      "source": [
        "import matplotlib.pyplot as plt\n",
        "plt.hist(X_train[:,0])\n",
        "plt.ylabel('0th column(fixed acidity)')\n",
        "plt.show()\n",
        "\n",
        "#to create the histogram graph for the given data\n",
        "#plt.show() it renders the plot and make the graph visible"
      ],
      "metadata": {
        "colab": {
          "base_uri": "https://localhost:8080/",
          "height": 430
        },
        "id": "IA1dxjdUWOHE",
        "outputId": "839e4278-0963-42e2-e4b1-3e35e39172ea"
      },
      "execution_count": 11,
      "outputs": [
        {
          "output_type": "display_data",
          "data": {
            "text/plain": [
              "<Figure size 640x480 with 1 Axes>"
            ],
            "image/png": "[encoded data removed]"
          },
          "metadata": {}
        }
      ]
    },
    {
      "cell_type": "markdown",
      "source": [
        "these values are not near 0 or 1 so we need to normalize the data"
      ],
      "metadata": {
        "id": "tppt4oG6XZbt"
      }
    },
    {
      "cell_type": "code",
      "source": [
        "plt.hist(Y_train)\n",
        "plt.xlim(-0.2, 1)\n",
        "plt.show()\n",
        "#we are limiting the x axis from (-0.2,1)\n"
      ],
      "metadata": {
        "colab": {
          "base_uri": "https://localhost:8080/",
          "height": 430
        },
        "id": "KrnKu8pUYpeD",
        "outputId": "6702bb8c-05c8-4f67-c223-2cba088af890"
      },
      "execution_count": 12,
      "outputs": [
        {
          "output_type": "display_data",
          "data": {
            "text/plain": [
              "<Figure size 640x480 with 1 Axes>"
            ],
            "image/png": "[encoded data removed]"
          },
          "metadata": {}
        }
      ]
    },
    {
      "cell_type": "code",
      "source": [
        "plt.hist(Y_val)\n",
        "plt.xlim(-0.2, 1)\n",
        "plt.show()\n"
      ],
      "metadata": {
        "colab": {
          "base_uri": "https://localhost:8080/",
          "height": 430
        },
        "id": "eYP8pwTGY4uC",
        "outputId": "a84a4ac1-dfd2-40cb-fc91-c0268898b3ed"
      },
      "execution_count": 13,
      "outputs": [
        {
          "output_type": "display_data",
          "data": {
            "text/plain": [
              "<Figure size 640x480 with 1 Axes>"
            ],
            "image/png": "[encoded data removed]"
          },
          "metadata": {}
        }
      ]
    },
    {
      "cell_type": "code",
      "source": [
        "mean=X_train.mean(axis=0) # we are finding the mean of each column\n",
        "X_train -=mean\n",
        "std=X_train.std(axis=0)\n",
        "X_train/=std\n",
        "\n",
        "X_val -=mean\n",
        "X_val/=std\n",
        "\n",
        "print(mean)\n",
        "print(std)"
      ],
      "metadata": {
        "colab": {
          "base_uri": "https://localhost:8080/"
        },
        "id": "m9-H550KZCWS",
        "outputId": "fa680c7b-f7a8-48aa-8df3-f12bef207ff1"
      },
      "execution_count": 14,
      "outputs": [
        {
          "output_type": "stream",
          "name": "stdout",
          "text": [
            "[8.39 0.52 0.28 2.56 0.08 16.06 44.02 1.00 3.31 0.65 10.56]\n",
            "[1.79 0.18 0.19 1.47 0.04 10.76 31.70 0.00 0.15 0.15 1.08]\n"
          ]
        }
      ]
    },
    {
      "cell_type": "code",
      "source": [
        "plt.hist(X_train[:,0])\n",
        "plt.ylabel('0th column(fixed acidity)')\n",
        "plt.show()\n",
        "\n",
        "# now the values are near to 0 and 1"
      ],
      "metadata": {
        "colab": {
          "base_uri": "https://localhost:8080/",
          "height": 430
        },
        "id": "6AmAhPBjZZfG",
        "outputId": "97a03e51-11be-4b57-895b-f8de7ae1aa29"
      },
      "execution_count": 15,
      "outputs": [
        {
          "output_type": "display_data",
          "data": {
            "text/plain": [
              "<Figure size 640x480 with 1 Axes>"
            ],
            "image/png": "[encoded data removed]"
          },
          "metadata": {}
        }
      ]
    },
    {
      "cell_type": "code",
      "source": [
        "print(X_train.shape)\n",
        "print(Y_train.shape)\n",
        "print(X_val.shape)\n",
        "print(Y_val.shape)"
      ],
      "metadata": {
        "colab": {
          "base_uri": "https://localhost:8080/"
        },
        "id": "VQvUepsPxm8J",
        "outputId": "cb6a6957-97a1-4389-bbe6-33cc4d55bb4b"
      },
      "execution_count": 16,
      "outputs": [
        {
          "output_type": "stream",
          "name": "stdout",
          "text": [
            "(1280, 11)\n",
            "(1280,)\n",
            "(319, 11)\n",
            "(319,)\n"
          ]
        }
      ]
    },
    {
      "cell_type": "code",
      "source": [
        "print(X_train[0:3,:])\n",
        "#0:3 represents the row selection\n",
        "# : represents the column selection"
      ],
      "metadata": {
        "colab": {
          "base_uri": "https://localhost:8080/"
        },
        "id": "qNFkJ06rx1Zl",
        "outputId": "1d2040f9-f088-4d9b-869d-f41990b1309e"
      },
      "execution_count": 17,
      "outputs": [
        {
          "output_type": "stream",
          "name": "stdout",
          "text": [
            "[[0.68 1.39 -0.82 0.23 -0.07 1.30 0.95 0.99 -0.05 -0.08 -0.15]\n",
            " [0.79 0.77 0.57 0.43 -0.05 0.46 0.47 1.12 0.40 0.40 0.87]\n",
            " [0.51 0.49 -0.10 0.57 0.14 0.83 1.36 1.54 -0.44 -0.21 -0.80]]\n"
          ]
        }
      ]
    },
    {
      "cell_type": "code",
      "source": [
        "print(Y_train[0:3])\n",
        "#we are slicing the data"
      ],
      "metadata": {
        "colab": {
          "base_uri": "https://localhost:8080/"
        },
        "id": "EwLKMx3Ux5lc",
        "outputId": "a19e3a5d-0a95-42b1-c573-56745f4b1cb9"
      },
      "execution_count": 18,
      "outputs": [
        {
          "output_type": "stream",
          "name": "stdout",
          "text": [
            "[1.00 1.00 0.00]\n"
          ]
        }
      ]
    },
    {
      "cell_type": "code",
      "source": [
        "\n",
        "print(X_val[0:3,:])\n",
        "#row and column selection ,we can see all values are near 0 or 1"
      ],
      "metadata": {
        "colab": {
          "base_uri": "https://localhost:8080/"
        },
        "id": "hI-6NtEHyKlF",
        "outputId": "c8afa5f3-7eaa-48ca-8334-2bc90a2f7662"
      },
      "execution_count": 19,
      "outputs": [
        {
          "output_type": "stream",
          "name": "stdout",
          "text": [
            "[[-0.55 0.99 -1.43 -0.45 -0.23 -0.47 -0.32 0.56 1.31 -0.62 -1.07]\n",
            " [-0.33 2.00 -1.43 0.02 0.35 0.83 0.72 0.06 -0.70 0.19 -0.70]\n",
            " [-0.33 1.33 -1.23 -0.18 0.19 -0.10 0.31 0.16 -0.31 -0.01 -0.70]]\n"
          ]
        }
      ]
    },
    {
      "cell_type": "code",
      "source": [
        "print(Y_val[0:3])"
      ],
      "metadata": {
        "colab": {
          "base_uri": "https://localhost:8080/"
        },
        "id": "9mJtcQ70yP90",
        "outputId": "948aba42-aae3-4650-9875-a7bf843e0cf1"
      },
      "execution_count": 20,
      "outputs": [
        {
          "output_type": "stream",
          "name": "stdout",
          "text": [
            "[0.00 0.00 0.00]\n"
          ]
        }
      ]
    },
    {
      "cell_type": "code",
      "source": [
        "from tensorflow.keras.models import Sequential\n",
        "from tensorflow.keras.layers import Dense\n",
        "\n",
        "#importing the sequential model from tensorflow,sequential model is a linear stack of layers , means u can add one layer at a time from  input to output\n",
        "#dense is fully connected layers.,every neuron is hvaing its previous neuron (connnection)"
      ],
      "metadata": {
        "id": "-qpYUMpa2utS"
      },
      "execution_count": 21,
      "outputs": []
    },
    {
      "cell_type": "code",
      "source": [
        "model = Sequential()\n",
        "model.add(Input(shape=(len(X_train[0, :]),)))\n",
        "\n",
        "\n",
        "model.add(Dense(8, activation='relu'))\n",
        "model.add(Dense(4, activation='relu'))\n",
        "model.add(Dense(1, activation='sigmoid'))\n",
        "\n",
        "print(model.summary())\n",
        "\n",
        "# we are creating the Dense layer with 8 neurons ,\n",
        "#relu--RECTIFIED LINEAR UNIT it specifics the activation function of the unit\n",
        "#adds another 4 neurons for the previous 8 neurons , againn relu activates the  function\n",
        "#adds an output layer and sigmoid activates the function and its typically used for binary classification"
      ],
      "metadata": {
        "colab": {
          "base_uri": "https://localhost:8080/",
          "height": 243
        },
        "id": "h58oDkaFBVYi",
        "outputId": "5d357f3a-728c-409a-cd28-44e9f9131dff"
      },
      "execution_count": 42,
      "outputs": [
        {
          "output_type": "display_data",
          "data": {
            "text/plain": [
              "\u001b[1mModel: \"sequential_7\"\u001b[0m\n"
            ],
            "text/html": [
              "<pre style=\"white-space:pre;overflow-x:auto;line-height:normal;font-family:Menlo,'DejaVu Sans Mono',consolas,'Courier New',monospace\"><span style=\"font-weight: bold\">Model: \"sequential_7\"</span>\n",
              "</pre>\n"
            ]
          },
          "metadata": {}
        },
        {
          "output_type": "display_data",
          "data": {
            "text/plain": [
              "┏━━━━━━━━━━━━━━━━━━━━━━━━━━━━━━━━━━━━━━┳━━━━━━━━━━━━━━━━━━━━━━━━━━━━━┳━━━━━━━━━━━━━━━━━┓\n",
              "┃\u001b[1m \u001b[0m\u001b[1mLayer (type)                        \u001b[0m\u001b[1m \u001b[0m┃\u001b[1m \u001b[0m\u001b[1mOutput Shape               \u001b[0m\u001b[1m \u001b[0m┃\u001b[1m \u001b[0m\u001b[1m        Param #\u001b[0m\u001b[1m \u001b[0m┃\n",
              "┡━━━━━━━━━━━━━━━━━━━━━━━━━━━━━━━━━━━━━━╇━━━━━━━━━━━━━━━━━━━━━━━━━━━━━╇━━━━━━━━━━━━━━━━━┩\n",
              "│ dense_9 (\u001b[38;5;33mDense\u001b[0m)                      │ (\u001b[38;5;45mNone\u001b[0m, \u001b[38;5;34m8\u001b[0m)                   │              \u001b[38;5;34m96\u001b[0m │\n",
              "├──────────────────────────────────────┼─────────────────────────────┼─────────────────┤\n",
              "│ dense_10 (\u001b[38;5;33mDense\u001b[0m)                     │ (\u001b[38;5;45mNone\u001b[0m, \u001b[38;5;34m4\u001b[0m)                   │              \u001b[38;5;34m36\u001b[0m │\n",
              "├──────────────────────────────────────┼─────────────────────────────┼─────────────────┤\n",
              "│ dense_11 (\u001b[38;5;33mDense\u001b[0m)                     │ (\u001b[38;5;45mNone\u001b[0m, \u001b[38;5;34m1\u001b[0m)                   │               \u001b[38;5;34m5\u001b[0m │\n",
              "└──────────────────────────────────────┴─────────────────────────────┴─────────────────┘\n"
            ],
            "text/html": [
              "<pre style=\"white-space:pre;overflow-x:auto;line-height:normal;font-family:Menlo,'DejaVu Sans Mono',consolas,'Courier New',monospace\">┏━━━━━━━━━━━━━━━━━━━━━━━━━━━━━━━━━━━━━━┳━━━━━━━━━━━━━━━━━━━━━━━━━━━━━┳━━━━━━━━━━━━━━━━━┓\n",
              "┃<span style=\"font-weight: bold\"> Layer (type)                         </span>┃<span style=\"font-weight: bold\"> Output Shape                </span>┃<span style=\"font-weight: bold\">         Param # </span>┃\n",
              "┡━━━━━━━━━━━━━━━━━━━━━━━━━━━━━━━━━━━━━━╇━━━━━━━━━━━━━━━━━━━━━━━━━━━━━╇━━━━━━━━━━━━━━━━━┩\n",
              "│ dense_9 (<span style=\"color: #0087ff; text-decoration-color: #0087ff\">Dense</span>)                      │ (<span style=\"color: #00d7ff; text-decoration-color: #00d7ff\">None</span>, <span style=\"color: #00af00; text-decoration-color: #00af00\">8</span>)                   │              <span style=\"color: #00af00; text-decoration-color: #00af00\">96</span> │\n",
              "├──────────────────────────────────────┼─────────────────────────────┼─────────────────┤\n",
              "│ dense_10 (<span style=\"color: #0087ff; text-decoration-color: #0087ff\">Dense</span>)                     │ (<span style=\"color: #00d7ff; text-decoration-color: #00d7ff\">None</span>, <span style=\"color: #00af00; text-decoration-color: #00af00\">4</span>)                   │              <span style=\"color: #00af00; text-decoration-color: #00af00\">36</span> │\n",
              "├──────────────────────────────────────┼─────────────────────────────┼─────────────────┤\n",
              "│ dense_11 (<span style=\"color: #0087ff; text-decoration-color: #0087ff\">Dense</span>)                     │ (<span style=\"color: #00d7ff; text-decoration-color: #00d7ff\">None</span>, <span style=\"color: #00af00; text-decoration-color: #00af00\">1</span>)                   │               <span style=\"color: #00af00; text-decoration-color: #00af00\">5</span> │\n",
              "└──────────────────────────────────────┴─────────────────────────────┴─────────────────┘\n",
              "</pre>\n"
            ]
          },
          "metadata": {}
        },
        {
          "output_type": "display_data",
          "data": {
            "text/plain": [
              "\u001b[1m Total params: \u001b[0m\u001b[38;5;34m137\u001b[0m (548.00 B)\n"
            ],
            "text/html": [
              "<pre style=\"white-space:pre;overflow-x:auto;line-height:normal;font-family:Menlo,'DejaVu Sans Mono',consolas,'Courier New',monospace\"><span style=\"font-weight: bold\"> Total params: </span><span style=\"color: #00af00; text-decoration-color: #00af00\">137</span> (548.00 B)\n",
              "</pre>\n"
            ]
          },
          "metadata": {}
        },
        {
          "output_type": "display_data",
          "data": {
            "text/plain": [
              "\u001b[1m Trainable params: \u001b[0m\u001b[38;5;34m137\u001b[0m (548.00 B)\n"
            ],
            "text/html": [
              "<pre style=\"white-space:pre;overflow-x:auto;line-height:normal;font-family:Menlo,'DejaVu Sans Mono',consolas,'Courier New',monospace\"><span style=\"font-weight: bold\"> Trainable params: </span><span style=\"color: #00af00; text-decoration-color: #00af00\">137</span> (548.00 B)\n",
              "</pre>\n"
            ]
          },
          "metadata": {}
        },
        {
          "output_type": "display_data",
          "data": {
            "text/plain": [
              "\u001b[1m Non-trainable params: \u001b[0m\u001b[38;5;34m0\u001b[0m (0.00 B)\n"
            ],
            "text/html": [
              "<pre style=\"white-space:pre;overflow-x:auto;line-height:normal;font-family:Menlo,'DejaVu Sans Mono',consolas,'Courier New',monospace\"><span style=\"font-weight: bold\"> Non-trainable params: </span><span style=\"color: #00af00; text-decoration-color: #00af00\">0</span> (0.00 B)\n",
              "</pre>\n"
            ]
          },
          "metadata": {}
        },
        {
          "output_type": "stream",
          "name": "stdout",
          "text": [
            "None\n"
          ]
        }
      ]
    },
    {
      "cell_type": "code",
      "source": [
        "model.compile(loss='binary_crossentropy',optimizer='rmsprop',metrics=['accuracy'])\n",
        "# used for compiling based on the specification mainly on loss function etc\n",
        "#the losss function is shows how well is the model is\n",
        "#binary_cross-entropy is used to binary classifaction tasks ,it based on the entropy of the data\n",
        "#the optimizers are used for updating the model's weights to reduce the lose function here we are using root mean square propagations ,it deals with massive neural networks, it stabilizes the model\n",
        "#metrics is used to evaluate the model during the training and testing, here we are evalute using accuracy (fraction of correct predictions)"
      ],
      "metadata": {
        "id": "oddxqRrT3X7G"
      },
      "execution_count": 23,
      "outputs": []
    },
    {
      "cell_type": "code",
      "source": [
        "# train the model\n",
        "from keras.callbacks import ModelCheckpoint, EarlyStopping\n",
        "checkpoint_a=ModelCheckpoint(filepath='my_model.keras',monitor='val_loss',verbose=1,save_best_only=True)\n",
        "checkpoint_b=EarlyStopping(monitor='val_loss',mode='min',patience=20,verbose=1,)\n",
        "\n",
        "# Import EarlyStopping and modelcheckpoint callbacks from keras.callbacks , these callback are called at certains point of time\n",
        "#we need to specify where the code need to be stored and when the model is called it need to be monitored ,here its validation loss is meansured\n",
        "#verbosity it determines the amount of the values whihc are printed in console\n",
        "#mode=min shows we need to expect the monitor metrices shows minimum error\n",
        "#patience is set to a limit if the validation lose is not mensured with in the time we gavee then the training for model stops\n",
        "\n"
      ],
      "metadata": {
        "id": "mkvxAtYEMlOy"
      },
      "execution_count": 24,
      "outputs": []
    },
    {
      "cell_type": "code",
      "source": [
        "history=model.fit(X_train,Y_train,validation_data=(X_val,Y_val),epochs=256,batch_size=10,callbacks=[checkpoint_a,checkpoint_b])\n",
        "#we are calling fit method (it adjust the model weights(parameters), and we took validation in 2D array)\n",
        "#epochs means its shows how many iteration , which says it how many times the trained model is runned for the entire dataset\n",
        "#batch_size --the model will update thier weights after 10 samples coz its effective .. loading for entire data is memory cosumption"
      ],
      "metadata": {
        "colab": {
          "base_uri": "https://localhost:8080/"
        },
        "id": "KPudLnqkbsO3",
        "outputId": "40b07d4a-b3ce-4950-ed6f-a49f9b6453d6",
        "collapsed": true
      },
      "execution_count": 25,
      "outputs": [
        {
          "output_type": "stream",
          "name": "stdout",
          "text": [
            "Epoch 1/256\n",
            "\u001b[1m120/128\u001b[0m \u001b[32m━━━━━━━━━━━━━━━━━━\u001b[0m\u001b[37m━━\u001b[0m \u001b[1m0s\u001b[0m 6ms/step - accuracy: 0.5854 - loss: 0.6589\n",
            "Epoch 1: val_loss improved from inf to 0.70290, saving model to my_model.keras\n",
            "\u001b[1m128/128\u001b[0m \u001b[32m━━━━━━━━━━━━━━━━━━━━\u001b[0m\u001b[37m\u001b[0m \u001b[1m5s\u001b[0m 18ms/step - accuracy: 0.5870 - loss: 0.6583 - val_accuracy: 0.5110 - val_loss: 0.7029\n",
            "Epoch 2/256\n",
            "\u001b[1m126/128\u001b[0m \u001b[32m━━━━━━━━━━━━━━━━━━━\u001b[0m\u001b[37m━\u001b[0m \u001b[1m0s\u001b[0m 9ms/step - accuracy: 0.6828 - loss: 0.6112\n",
            "Epoch 2: val_loss improved from 0.70290 to 0.68391, saving model to my_model.keras\n",
            "\u001b[1m128/128\u001b[0m \u001b[32m━━━━━━━━━━━━━━━━━━━━\u001b[0m\u001b[37m\u001b[0m \u001b[1m2s\u001b[0m 15ms/step - accuracy: 0.6823 - loss: 0.6112 - val_accuracy: 0.5862 - val_loss: 0.6839\n",
            "Epoch 3/256\n",
            "\u001b[1m120/128\u001b[0m \u001b[32m━━━━━━━━━━━━━━━━━━\u001b[0m\u001b[37m━━\u001b[0m \u001b[1m0s\u001b[0m 4ms/step - accuracy: 0.6656 - loss: 0.5947\n",
            "Epoch 3: val_loss improved from 0.68391 to 0.66971, saving model to my_model.keras\n",
            "\u001b[1m128/128\u001b[0m \u001b[32m━━━━━━━━━━━━━━━━━━━━\u001b[0m\u001b[37m\u001b[0m \u001b[1m1s\u001b[0m 5ms/step - accuracy: 0.6676 - loss: 0.5936 - val_accuracy: 0.6113 - val_loss: 0.6697\n",
            "Epoch 4/256\n",
            "\u001b[1m125/128\u001b[0m \u001b[32m━━━━━━━━━━━━━━━━━━━\u001b[0m\u001b[37m━\u001b[0m \u001b[1m0s\u001b[0m 3ms/step - accuracy: 0.6793 - loss: 0.5795\n",
            "Epoch 4: val_loss improved from 0.66971 to 0.66045, saving model to my_model.keras\n",
            "\u001b[1m128/128\u001b[0m \u001b[32m━━━━━━━━━━━━━━━━━━━━\u001b[0m\u001b[37m\u001b[0m \u001b[1m1s\u001b[0m 5ms/step - accuracy: 0.6802 - loss: 0.5789 - val_accuracy: 0.6332 - val_loss: 0.6604\n",
            "Epoch 5/256\n",
            "\u001b[1m120/128\u001b[0m \u001b[32m━━━━━━━━━━━━━━━━━━\u001b[0m\u001b[37m━━\u001b[0m \u001b[1m0s\u001b[0m 3ms/step - accuracy: 0.7374 - loss: 0.5479\n",
            "Epoch 5: val_loss improved from 0.66045 to 0.65021, saving model to my_model.keras\n",
            "\u001b[1m128/128\u001b[0m \u001b[32m━━━━━━━━━━━━━━━━━━━━\u001b[0m\u001b[37m\u001b[0m \u001b[1m1s\u001b[0m 6ms/step - accuracy: 0.7365 - loss: 0.5478 - val_accuracy: 0.6458 - val_loss: 0.6502\n",
            "Epoch 6/256\n",
            "\u001b[1m116/128\u001b[0m \u001b[32m━━━━━━━━━━━━━━━━━━\u001b[0m\u001b[37m━━\u001b[0m \u001b[1m0s\u001b[0m 5ms/step - accuracy: 0.7034 - loss: 0.5556\n",
            "Epoch 6: val_loss improved from 0.65021 to 0.64118, saving model to my_model.keras\n",
            "\u001b[1m128/128\u001b[0m \u001b[32m━━━━━━━━━━━━━━━━━━━━\u001b[0m\u001b[37m\u001b[0m \u001b[1m1s\u001b[0m 6ms/step - accuracy: 0.7059 - loss: 0.5537 - val_accuracy: 0.6583 - val_loss: 0.6412\n",
            "Epoch 7/256\n",
            "\u001b[1m128/128\u001b[0m \u001b[32m━━━━━━━━━━━━━━━━━━━━\u001b[0m\u001b[37m\u001b[0m \u001b[1m0s\u001b[0m 3ms/step - accuracy: 0.7121 - loss: 0.5358\n",
            "Epoch 7: val_loss improved from 0.64118 to 0.63724, saving model to my_model.keras\n",
            "\u001b[1m128/128\u001b[0m \u001b[32m━━━━━━━━━━━━━━━━━━━━\u001b[0m\u001b[37m\u001b[0m \u001b[1m1s\u001b[0m 5ms/step - accuracy: 0.7122 - loss: 0.5358 - val_accuracy: 0.6552 - val_loss: 0.6372\n",
            "Epoch 8/256\n",
            "\u001b[1m106/128\u001b[0m \u001b[32m━━━━━━━━━━━━━━━━\u001b[0m\u001b[37m━━━━\u001b[0m \u001b[1m0s\u001b[0m 4ms/step - accuracy: 0.7337 - loss: 0.5215\n",
            "Epoch 8: val_loss improved from 0.63724 to 0.63076, saving model to my_model.keras\n",
            "\u001b[1m128/128\u001b[0m \u001b[32m━━━━━━━━━━━━━━━━━━━━\u001b[0m\u001b[37m\u001b[0m \u001b[1m1s\u001b[0m 5ms/step - accuracy: 0.7340 - loss: 0.5223 - val_accuracy: 0.6583 - val_loss: 0.6308\n",
            "Epoch 9/256\n",
            "\u001b[1m127/128\u001b[0m \u001b[32m━━━━━━━━━━━━━━━━━━━\u001b[0m\u001b[37m━\u001b[0m \u001b[1m0s\u001b[0m 4ms/step - accuracy: 0.7186 - loss: 0.5467\n",
            "Epoch 9: val_loss improved from 0.63076 to 0.62980, saving model to my_model.keras\n",
            "\u001b[1m128/128\u001b[0m \u001b[32m━━━━━━━━━━━━━━━━━━━━\u001b[0m\u001b[37m\u001b[0m \u001b[1m1s\u001b[0m 5ms/step - accuracy: 0.7188 - loss: 0.5464 - val_accuracy: 0.6552 - val_loss: 0.6298\n",
            "Epoch 10/256\n",
            "\u001b[1m118/128\u001b[0m \u001b[32m━━━━━━━━━━━━━━━━━━\u001b[0m\u001b[37m━━\u001b[0m \u001b[1m0s\u001b[0m 4ms/step - accuracy: 0.7434 - loss: 0.5088\n",
            "Epoch 10: val_loss improved from 0.62980 to 0.62788, saving model to my_model.keras\n",
            "\u001b[1m128/128\u001b[0m \u001b[32m━━━━━━━━━━━━━━━━━━━━\u001b[0m\u001b[37m\u001b[0m \u001b[1m1s\u001b[0m 5ms/step - accuracy: 0.7433 - loss: 0.5096 - val_accuracy: 0.6489 - val_loss: 0.6279\n",
            "Epoch 11/256\n",
            "\u001b[1m122/128\u001b[0m \u001b[32m━━━━━━━━━━━━━━━━━━━\u001b[0m\u001b[37m━\u001b[0m \u001b[1m0s\u001b[0m 2ms/step - accuracy: 0.7476 - loss: 0.5079\n",
            "Epoch 11: val_loss improved from 0.62788 to 0.62708, saving model to my_model.keras\n",
            "\u001b[1m128/128\u001b[0m \u001b[32m━━━━━━━━━━━━━━━━━━━━\u001b[0m\u001b[37m\u001b[0m \u001b[1m1s\u001b[0m 3ms/step - accuracy: 0.7471 - loss: 0.5086 - val_accuracy: 0.6520 - val_loss: 0.6271\n",
            "Epoch 12/256\n",
            "\u001b[1m124/128\u001b[0m \u001b[32m━━━━━━━━━━━━━━━━━━━\u001b[0m\u001b[37m━\u001b[0m \u001b[1m0s\u001b[0m 2ms/step - accuracy: 0.7448 - loss: 0.5218\n",
            "Epoch 12: val_loss improved from 0.62708 to 0.62352, saving model to my_model.keras\n",
            "\u001b[1m128/128\u001b[0m \u001b[32m━━━━━━━━━━━━━━━━━━━━\u001b[0m\u001b[37m\u001b[0m \u001b[1m1s\u001b[0m 4ms/step - accuracy: 0.7448 - loss: 0.5216 - val_accuracy: 0.6583 - val_loss: 0.6235\n",
            "Epoch 13/256\n",
            "\u001b[1m115/128\u001b[0m \u001b[32m━━━━━━━━━━━━━━━━━\u001b[0m\u001b[37m━━━\u001b[0m \u001b[1m0s\u001b[0m 5ms/step - accuracy: 0.7375 - loss: 0.5162\n",
            "Epoch 13: val_loss improved from 0.62352 to 0.62078, saving model to my_model.keras\n",
            "\u001b[1m128/128\u001b[0m \u001b[32m━━━━━━━━━━━━━━━━━━━━\u001b[0m\u001b[37m\u001b[0m \u001b[1m1s\u001b[0m 7ms/step - accuracy: 0.7384 - loss: 0.5159 - val_accuracy: 0.6583 - val_loss: 0.6208\n",
            "Epoch 14/256\n",
            "\u001b[1m127/128\u001b[0m \u001b[32m━━━━━━━━━━━━━━━━━━━\u001b[0m\u001b[37m━\u001b[0m \u001b[1m0s\u001b[0m 5ms/step - accuracy: 0.7332 - loss: 0.5341\n",
            "Epoch 14: val_loss improved from 0.62078 to 0.62034, saving model to my_model.keras\n",
            "\u001b[1m128/128\u001b[0m \u001b[32m━━━━━━━━━━━━━━━━━━━━\u001b[0m\u001b[37m\u001b[0m \u001b[1m1s\u001b[0m 6ms/step - accuracy: 0.7334 - loss: 0.5337 - val_accuracy: 0.6583 - val_loss: 0.6203\n",
            "Epoch 15/256\n",
            "\u001b[1m121/128\u001b[0m \u001b[32m━━━━━━━━━━━━━━━━━━\u001b[0m\u001b[37m━━\u001b[0m \u001b[1m0s\u001b[0m 2ms/step - accuracy: 0.7490 - loss: 0.5367\n",
            "Epoch 15: val_loss improved from 0.62034 to 0.61920, saving model to my_model.keras\n",
            "\u001b[1m128/128\u001b[0m \u001b[32m━━━━━━━━━━━━━━━━━━━━\u001b[0m\u001b[37m\u001b[0m \u001b[1m1s\u001b[0m 3ms/step - accuracy: 0.7491 - loss: 0.5350 - val_accuracy: 0.6583 - val_loss: 0.6192\n",
            "Epoch 16/256\n",
            "\u001b[1m127/128\u001b[0m \u001b[32m━━━━━━━━━━━━━━━━━━━\u001b[0m\u001b[37m━\u001b[0m \u001b[1m0s\u001b[0m 2ms/step - accuracy: 0.7581 - loss: 0.4978\n",
            "Epoch 16: val_loss improved from 0.61920 to 0.61847, saving model to my_model.keras\n",
            "\u001b[1m128/128\u001b[0m \u001b[32m━━━━━━━━━━━━━━━━━━━━\u001b[0m\u001b[37m\u001b[0m \u001b[1m0s\u001b[0m 3ms/step - accuracy: 0.7580 - loss: 0.4980 - val_accuracy: 0.6646 - val_loss: 0.6185\n",
            "Epoch 17/256\n",
            "\u001b[1m109/128\u001b[0m \u001b[32m━━━━━━━━━━━━━━━━━\u001b[0m\u001b[37m━━━\u001b[0m \u001b[1m0s\u001b[0m 2ms/step - accuracy: 0.7460 - loss: 0.5158\n",
            "Epoch 17: val_loss did not improve from 0.61847\n",
            "\u001b[1m128/128\u001b[0m \u001b[32m━━━━━━━━━━━━━━━━━━━━\u001b[0m\u001b[37m\u001b[0m \u001b[1m0s\u001b[0m 3ms/step - accuracy: 0.7462 - loss: 0.5149 - val_accuracy: 0.6677 - val_loss: 0.6191\n",
            "Epoch 18/256\n",
            "\u001b[1m111/128\u001b[0m \u001b[32m━━━━━━━━━━━━━━━━━\u001b[0m\u001b[37m━━━\u001b[0m \u001b[1m0s\u001b[0m 2ms/step - accuracy: 0.7594 - loss: 0.5119\n",
            "Epoch 18: val_loss did not improve from 0.61847\n",
            "\u001b[1m128/128\u001b[0m \u001b[32m━━━━━━━━━━━━━━━━━━━━\u001b[0m\u001b[37m\u001b[0m \u001b[1m0s\u001b[0m 2ms/step - accuracy: 0.7588 - loss: 0.5109 - val_accuracy: 0.6614 - val_loss: 0.6197\n",
            "Epoch 19/256\n",
            "\u001b[1m122/128\u001b[0m \u001b[32m━━━━━━━━━━━━━━━━━━━\u001b[0m\u001b[37m━\u001b[0m \u001b[1m0s\u001b[0m 1ms/step - accuracy: 0.7642 - loss: 0.4918\n",
            "Epoch 19: val_loss improved from 0.61847 to 0.61483, saving model to my_model.keras\n",
            "\u001b[1m128/128\u001b[0m \u001b[32m━━━━━━━━━━━━━━━━━━━━\u001b[0m\u001b[37m\u001b[0m \u001b[1m1s\u001b[0m 2ms/step - accuracy: 0.7636 - loss: 0.4923 - val_accuracy: 0.6583 - val_loss: 0.6148\n",
            "Epoch 20/256\n",
            "\u001b[1m113/128\u001b[0m \u001b[32m━━━━━━━━━━━━━━━━━\u001b[0m\u001b[37m━━━\u001b[0m \u001b[1m0s\u001b[0m 1ms/step - accuracy: 0.7934 - loss: 0.4597\n",
            "Epoch 20: val_loss improved from 0.61483 to 0.61418, saving model to my_model.keras\n",
            "\u001b[1m128/128\u001b[0m \u001b[32m━━━━━━━━━━━━━━━━━━━━\u001b[0m\u001b[37m\u001b[0m \u001b[1m0s\u001b[0m 2ms/step - accuracy: 0.7887 - loss: 0.4643 - val_accuracy: 0.6583 - val_loss: 0.6142\n",
            "Epoch 21/256\n",
            "\u001b[1m119/128\u001b[0m \u001b[32m━━━━━━━━━━━━━━━━━━\u001b[0m\u001b[37m━━\u001b[0m \u001b[1m0s\u001b[0m 1ms/step - accuracy: 0.7398 - loss: 0.5108\n",
            "Epoch 21: val_loss improved from 0.61418 to 0.61015, saving model to my_model.keras\n",
            "\u001b[1m128/128\u001b[0m \u001b[32m━━━━━━━━━━━━━━━━━━━━\u001b[0m\u001b[37m\u001b[0m \u001b[1m1s\u001b[0m 2ms/step - accuracy: 0.7412 - loss: 0.5096 - val_accuracy: 0.6583 - val_loss: 0.6102\n",
            "Epoch 22/256\n",
            "\u001b[1m124/128\u001b[0m \u001b[32m━━━━━━━━━━━━━━━━━━━\u001b[0m\u001b[37m━\u001b[0m \u001b[1m0s\u001b[0m 1ms/step - accuracy: 0.7708 - loss: 0.4818\n",
            "Epoch 22: val_loss improved from 0.61015 to 0.60705, saving model to my_model.keras\n",
            "\u001b[1m128/128\u001b[0m \u001b[32m━━━━━━━━━━━━━━━━━━━━\u001b[0m\u001b[37m\u001b[0m \u001b[1m0s\u001b[0m 2ms/step - accuracy: 0.7702 - loss: 0.4824 - val_accuracy: 0.6614 - val_loss: 0.6071\n",
            "Epoch 23/256\n",
            "\u001b[1m115/128\u001b[0m \u001b[32m━━━━━━━━━━━━━━━━━\u001b[0m\u001b[37m━━━\u001b[0m \u001b[1m0s\u001b[0m 1ms/step - accuracy: 0.7522 - loss: 0.4912\n",
            "Epoch 23: val_loss improved from 0.60705 to 0.60371, saving model to my_model.keras\n",
            "\u001b[1m128/128\u001b[0m \u001b[32m━━━━━━━━━━━━━━━━━━━━\u001b[0m\u001b[37m\u001b[0m \u001b[1m0s\u001b[0m 2ms/step - accuracy: 0.7528 - loss: 0.4920 - val_accuracy: 0.6677 - val_loss: 0.6037\n",
            "Epoch 24/256\n",
            "\u001b[1m120/128\u001b[0m \u001b[32m━━━━━━━━━━━━━━━━━━\u001b[0m\u001b[37m━━\u001b[0m \u001b[1m0s\u001b[0m 1ms/step - accuracy: 0.7677 - loss: 0.5050\n",
            "Epoch 24: val_loss improved from 0.60371 to 0.60119, saving model to my_model.keras\n",
            "\u001b[1m128/128\u001b[0m \u001b[32m━━━━━━━━━━━━━━━━━━━━\u001b[0m\u001b[37m\u001b[0m \u001b[1m0s\u001b[0m 2ms/step - accuracy: 0.7673 - loss: 0.5042 - val_accuracy: 0.6740 - val_loss: 0.6012\n",
            "Epoch 25/256\n",
            "\u001b[1m120/128\u001b[0m \u001b[32m━━━━━━━━━━━━━━━━━━\u001b[0m\u001b[37m━━\u001b[0m \u001b[1m0s\u001b[0m 1ms/step - accuracy: 0.7495 - loss: 0.5032\n",
            "Epoch 25: val_loss improved from 0.60119 to 0.60022, saving model to my_model.keras\n",
            "\u001b[1m128/128\u001b[0m \u001b[32m━━━━━━━━━━━━━━━━━━━━\u001b[0m\u001b[37m\u001b[0m \u001b[1m0s\u001b[0m 2ms/step - accuracy: 0.7502 - loss: 0.5025 - val_accuracy: 0.6708 - val_loss: 0.6002\n",
            "Epoch 26/256\n",
            "\u001b[1m115/128\u001b[0m \u001b[32m━━━━━━━━━━━━━━━━━\u001b[0m\u001b[37m━━━\u001b[0m \u001b[1m0s\u001b[0m 1ms/step - accuracy: 0.7788 - loss: 0.4757\n",
            "Epoch 26: val_loss improved from 0.60022 to 0.59787, saving model to my_model.keras\n",
            "\u001b[1m128/128\u001b[0m \u001b[32m━━━━━━━━━━━━━━━━━━━━\u001b[0m\u001b[37m\u001b[0m \u001b[1m0s\u001b[0m 2ms/step - accuracy: 0.7765 - loss: 0.4772 - val_accuracy: 0.6677 - val_loss: 0.5979\n",
            "Epoch 27/256\n",
            "\u001b[1m114/128\u001b[0m \u001b[32m━━━━━━━━━━━━━━━━━\u001b[0m\u001b[37m━━━\u001b[0m \u001b[1m0s\u001b[0m 1ms/step - accuracy: 0.7222 - loss: 0.5291\n",
            "Epoch 27: val_loss improved from 0.59787 to 0.59551, saving model to my_model.keras\n",
            "\u001b[1m128/128\u001b[0m \u001b[32m━━━━━━━━━━━━━━━━━━━━\u001b[0m\u001b[37m\u001b[0m \u001b[1m0s\u001b[0m 2ms/step - accuracy: 0.7260 - loss: 0.5248 - val_accuracy: 0.6740 - val_loss: 0.5955\n",
            "Epoch 28/256\n",
            "\u001b[1m110/128\u001b[0m \u001b[32m━━━━━━━━━━━━━━━━━\u001b[0m\u001b[37m━━━\u001b[0m \u001b[1m0s\u001b[0m 2ms/step - accuracy: 0.7544 - loss: 0.4982\n",
            "Epoch 28: val_loss improved from 0.59551 to 0.59429, saving model to my_model.keras\n",
            "\u001b[1m128/128\u001b[0m \u001b[32m━━━━━━━━━━━━━━━━━━━━\u001b[0m\u001b[37m\u001b[0m \u001b[1m0s\u001b[0m 4ms/step - accuracy: 0.7555 - loss: 0.4969 - val_accuracy: 0.6708 - val_loss: 0.5943\n",
            "Epoch 29/256\n",
            "\u001b[1m117/128\u001b[0m \u001b[32m━━━━━━━━━━━━━━━━━━\u001b[0m\u001b[37m━━\u001b[0m \u001b[1m0s\u001b[0m 2ms/step - accuracy: 0.7675 - loss: 0.4641\n",
            "Epoch 29: val_loss improved from 0.59429 to 0.59340, saving model to my_model.keras\n",
            "\u001b[1m128/128\u001b[0m \u001b[32m━━━━━━━━━━━━━━━━━━━━\u001b[0m\u001b[37m\u001b[0m \u001b[1m1s\u001b[0m 3ms/step - accuracy: 0.7670 - loss: 0.4659 - val_accuracy: 0.6677 - val_loss: 0.5934\n",
            "Epoch 30/256\n",
            "\u001b[1m108/128\u001b[0m \u001b[32m━━━━━━━━━━━━━━━━\u001b[0m\u001b[37m━━━━\u001b[0m \u001b[1m0s\u001b[0m 2ms/step - accuracy: 0.7562 - loss: 0.4727\n",
            "Epoch 30: val_loss improved from 0.59340 to 0.59241, saving model to my_model.keras\n",
            "\u001b[1m128/128\u001b[0m \u001b[32m━━━━━━━━━━━━━━━━━━━━\u001b[0m\u001b[37m\u001b[0m \u001b[1m0s\u001b[0m 3ms/step - accuracy: 0.7568 - loss: 0.4740 - val_accuracy: 0.6834 - val_loss: 0.5924\n",
            "Epoch 31/256\n",
            "\u001b[1m120/128\u001b[0m \u001b[32m━━━━━━━━━━━━━━━━━━\u001b[0m\u001b[37m━━\u001b[0m \u001b[1m0s\u001b[0m 2ms/step - accuracy: 0.7639 - loss: 0.4779\n",
            "Epoch 31: val_loss improved from 0.59241 to 0.59190, saving model to my_model.keras\n",
            "\u001b[1m128/128\u001b[0m \u001b[32m━━━━━━━━━━━━━━━━━━━━\u001b[0m\u001b[37m\u001b[0m \u001b[1m1s\u001b[0m 3ms/step - accuracy: 0.7637 - loss: 0.4782 - val_accuracy: 0.6865 - val_loss: 0.5919\n",
            "Epoch 32/256\n",
            "\u001b[1m104/128\u001b[0m \u001b[32m━━━━━━━━━━━━━━━━\u001b[0m\u001b[37m━━━━\u001b[0m \u001b[1m0s\u001b[0m 2ms/step - accuracy: 0.7815 - loss: 0.4613\n",
            "Epoch 32: val_loss improved from 0.59190 to 0.58949, saving model to my_model.keras\n",
            "\u001b[1m128/128\u001b[0m \u001b[32m━━━━━━━━━━━━━━━━━━━━\u001b[0m\u001b[37m\u001b[0m \u001b[1m0s\u001b[0m 3ms/step - accuracy: 0.7777 - loss: 0.4645 - val_accuracy: 0.6865 - val_loss: 0.5895\n",
            "Epoch 33/256\n",
            "\u001b[1m112/128\u001b[0m \u001b[32m━━━━━━━━━━━━━━━━━\u001b[0m\u001b[37m━━━\u001b[0m \u001b[1m0s\u001b[0m 2ms/step - accuracy: 0.7446 - loss: 0.5020\n",
            "Epoch 33: val_loss improved from 0.58949 to 0.58869, saving model to my_model.keras\n",
            "\u001b[1m128/128\u001b[0m \u001b[32m━━━━━━━━━━━━━━━━━━━━\u001b[0m\u001b[37m\u001b[0m \u001b[1m0s\u001b[0m 3ms/step - accuracy: 0.7465 - loss: 0.4996 - val_accuracy: 0.6865 - val_loss: 0.5887\n",
            "Epoch 34/256\n",
            "\u001b[1m125/128\u001b[0m \u001b[32m━━━━━━━━━━━━━━━━━━━\u001b[0m\u001b[37m━\u001b[0m \u001b[1m0s\u001b[0m 2ms/step - accuracy: 0.7624 - loss: 0.4856\n",
            "Epoch 34: val_loss improved from 0.58869 to 0.58708, saving model to my_model.keras\n",
            "\u001b[1m128/128\u001b[0m \u001b[32m━━━━━━━━━━━━━━━━━━━━\u001b[0m\u001b[37m\u001b[0m \u001b[1m1s\u001b[0m 3ms/step - accuracy: 0.7624 - loss: 0.4854 - val_accuracy: 0.6928 - val_loss: 0.5871\n",
            "Epoch 35/256\n",
            "\u001b[1m 98/128\u001b[0m \u001b[32m━━━━━━━━━━━━━━━\u001b[0m\u001b[37m━━━━━\u001b[0m \u001b[1m0s\u001b[0m 2ms/step - accuracy: 0.7777 - loss: 0.4700\n",
            "Epoch 35: val_loss improved from 0.58708 to 0.58586, saving model to my_model.keras\n",
            "\u001b[1m128/128\u001b[0m \u001b[32m━━━━━━━━━━━━━━━━━━━━\u001b[0m\u001b[37m\u001b[0m \u001b[1m0s\u001b[0m 3ms/step - accuracy: 0.7750 - loss: 0.4726 - val_accuracy: 0.6959 - val_loss: 0.5859\n",
            "Epoch 36/256\n",
            "\u001b[1m106/128\u001b[0m \u001b[32m━━━━━━━━━━━━━━━━\u001b[0m\u001b[37m━━━━\u001b[0m \u001b[1m0s\u001b[0m 2ms/step - accuracy: 0.7483 - loss: 0.4923\n",
            "Epoch 36: val_loss improved from 0.58586 to 0.58535, saving model to my_model.keras\n",
            "\u001b[1m128/128\u001b[0m \u001b[32m━━━━━━━━━━━━━━━━━━━━\u001b[0m\u001b[37m\u001b[0m \u001b[1m1s\u001b[0m 3ms/step - accuracy: 0.7504 - loss: 0.4898 - val_accuracy: 0.6991 - val_loss: 0.5854\n",
            "Epoch 37/256\n",
            "\u001b[1m119/128\u001b[0m \u001b[32m━━━━━━━━━━━━━━━━━━\u001b[0m\u001b[37m━━\u001b[0m \u001b[1m0s\u001b[0m 2ms/step - accuracy: 0.7812 - loss: 0.4548\n",
            "Epoch 37: val_loss improved from 0.58535 to 0.58380, saving model to my_model.keras\n",
            "\u001b[1m128/128\u001b[0m \u001b[32m━━━━━━━━━━━━━━━━━━━━\u001b[0m\u001b[37m\u001b[0m \u001b[1m1s\u001b[0m 3ms/step - accuracy: 0.7801 - loss: 0.4564 - val_accuracy: 0.7022 - val_loss: 0.5838\n",
            "Epoch 38/256\n",
            "\u001b[1m115/128\u001b[0m \u001b[32m━━━━━━━━━━━━━━━━━\u001b[0m\u001b[37m━━━\u001b[0m \u001b[1m0s\u001b[0m 2ms/step - accuracy: 0.7582 - loss: 0.4753\n",
            "Epoch 38: val_loss improved from 0.58380 to 0.58133, saving model to my_model.keras\n",
            "\u001b[1m128/128\u001b[0m \u001b[32m━━━━━━━━━━━━━━━━━━━━\u001b[0m\u001b[37m\u001b[0m \u001b[1m1s\u001b[0m 3ms/step - accuracy: 0.7586 - loss: 0.4756 - val_accuracy: 0.6991 - val_loss: 0.5813\n",
            "Epoch 39/256\n",
            "\u001b[1m123/128\u001b[0m \u001b[32m━━━━━━━━━━━━━━━━━━━\u001b[0m\u001b[37m━\u001b[0m \u001b[1m0s\u001b[0m 3ms/step - accuracy: 0.7603 - loss: 0.4712\n",
            "Epoch 39: val_loss improved from 0.58133 to 0.58076, saving model to my_model.keras\n",
            "\u001b[1m128/128\u001b[0m \u001b[32m━━━━━━━━━━━━━━━━━━━━\u001b[0m\u001b[37m\u001b[0m \u001b[1m1s\u001b[0m 4ms/step - accuracy: 0.7605 - loss: 0.4714 - val_accuracy: 0.7053 - val_loss: 0.5808\n",
            "Epoch 40/256\n",
            "\u001b[1m118/128\u001b[0m \u001b[32m━━━━━━━━━━━━━━━━━━\u001b[0m\u001b[37m━━\u001b[0m \u001b[1m0s\u001b[0m 3ms/step - accuracy: 0.7502 - loss: 0.4940\n",
            "Epoch 40: val_loss improved from 0.58076 to 0.57906, saving model to my_model.keras\n",
            "\u001b[1m128/128\u001b[0m \u001b[32m━━━━━━━━━━━━━━━━━━━━\u001b[0m\u001b[37m\u001b[0m \u001b[1m1s\u001b[0m 4ms/step - accuracy: 0.7513 - loss: 0.4921 - val_accuracy: 0.7085 - val_loss: 0.5791\n",
            "Epoch 41/256\n",
            "\u001b[1m102/128\u001b[0m \u001b[32m━━━━━━━━━━━━━━━\u001b[0m\u001b[37m━━━━━\u001b[0m \u001b[1m0s\u001b[0m 2ms/step - accuracy: 0.7696 - loss: 0.4728\n",
            "Epoch 41: val_loss improved from 0.57906 to 0.57867, saving model to my_model.keras\n",
            "\u001b[1m128/128\u001b[0m \u001b[32m━━━━━━━━━━━━━━━━━━━━\u001b[0m\u001b[37m\u001b[0m \u001b[1m1s\u001b[0m 3ms/step - accuracy: 0.7678 - loss: 0.4735 - val_accuracy: 0.7053 - val_loss: 0.5787\n",
            "Epoch 42/256\n",
            "\u001b[1m128/128\u001b[0m \u001b[32m━━━━━━━━━━━━━━━━━━━━\u001b[0m\u001b[37m\u001b[0m \u001b[1m0s\u001b[0m 2ms/step - accuracy: 0.7899 - loss: 0.4460\n",
            "Epoch 42: val_loss improved from 0.57867 to 0.57655, saving model to my_model.keras\n",
            "\u001b[1m128/128\u001b[0m \u001b[32m━━━━━━━━━━━━━━━━━━━━\u001b[0m\u001b[37m\u001b[0m \u001b[1m0s\u001b[0m 4ms/step - accuracy: 0.7897 - loss: 0.4462 - val_accuracy: 0.7053 - val_loss: 0.5766\n",
            "Epoch 43/256\n",
            "\u001b[1m110/128\u001b[0m \u001b[32m━━━━━━━━━━━━━━━━━\u001b[0m\u001b[37m━━━\u001b[0m \u001b[1m0s\u001b[0m 2ms/step - accuracy: 0.7711 - loss: 0.4892\n",
            "Epoch 43: val_loss did not improve from 0.57655\n",
            "\u001b[1m128/128\u001b[0m \u001b[32m━━━━━━━━━━━━━━━━━━━━\u001b[0m\u001b[37m\u001b[0m \u001b[1m0s\u001b[0m 3ms/step - accuracy: 0.7709 - loss: 0.4868 - val_accuracy: 0.7053 - val_loss: 0.5775\n",
            "Epoch 44/256\n",
            "\u001b[1m108/128\u001b[0m \u001b[32m━━━━━━━━━━━━━━━━\u001b[0m\u001b[37m━━━━\u001b[0m \u001b[1m0s\u001b[0m 2ms/step - accuracy: 0.7822 - loss: 0.4653\n",
            "Epoch 44: val_loss improved from 0.57655 to 0.57594, saving model to my_model.keras\n",
            "\u001b[1m128/128\u001b[0m \u001b[32m━━━━━━━━━━━━━━━━━━━━\u001b[0m\u001b[37m\u001b[0m \u001b[1m1s\u001b[0m 3ms/step - accuracy: 0.7802 - loss: 0.4658 - val_accuracy: 0.7085 - val_loss: 0.5759\n",
            "Epoch 45/256\n",
            "\u001b[1m108/128\u001b[0m \u001b[32m━━━━━━━━━━━━━━━━\u001b[0m\u001b[37m━━━━\u001b[0m \u001b[1m0s\u001b[0m 2ms/step - accuracy: 0.7823 - loss: 0.4671\n",
            "Epoch 45: val_loss improved from 0.57594 to 0.57517, saving model to my_model.keras\n",
            "\u001b[1m128/128\u001b[0m \u001b[32m━━━━━━━━━━━━━━━━━━━━\u001b[0m\u001b[37m\u001b[0m \u001b[1m1s\u001b[0m 4ms/step - accuracy: 0.7806 - loss: 0.4675 - val_accuracy: 0.7085 - val_loss: 0.5752\n",
            "Epoch 46/256\n",
            "\u001b[1m118/128\u001b[0m \u001b[32m━━━━━━━━━━━━━━━━━━\u001b[0m\u001b[37m━━\u001b[0m \u001b[1m0s\u001b[0m 3ms/step - accuracy: 0.7506 - loss: 0.4940\n",
            "Epoch 46: val_loss did not improve from 0.57517\n",
            "\u001b[1m128/128\u001b[0m \u001b[32m━━━━━━━━━━━━━━━━━━━━\u001b[0m\u001b[37m\u001b[0m \u001b[1m0s\u001b[0m 3ms/step - accuracy: 0.7522 - loss: 0.4918 - val_accuracy: 0.7147 - val_loss: 0.5778\n",
            "Epoch 47/256\n",
            "\u001b[1m119/128\u001b[0m \u001b[32m━━━━━━━━━━━━━━━━━━\u001b[0m\u001b[37m━━\u001b[0m \u001b[1m0s\u001b[0m 3ms/step - accuracy: 0.7765 - loss: 0.4454\n",
            "Epoch 47: val_loss did not improve from 0.57517\n",
            "\u001b[1m128/128\u001b[0m \u001b[32m━━━━━━━━━━━━━━━━━━━━\u001b[0m\u001b[37m\u001b[0m \u001b[1m1s\u001b[0m 4ms/step - accuracy: 0.7758 - loss: 0.4472 - val_accuracy: 0.7147 - val_loss: 0.5760\n",
            "Epoch 48/256\n",
            "\u001b[1m108/128\u001b[0m \u001b[32m━━━━━━━━━━━━━━━━\u001b[0m\u001b[37m━━━━\u001b[0m \u001b[1m0s\u001b[0m 2ms/step - accuracy: 0.7695 - loss: 0.4476\n",
            "Epoch 48: val_loss did not improve from 0.57517\n",
            "\u001b[1m128/128\u001b[0m \u001b[32m━━━━━━━━━━━━━━━━━━━━\u001b[0m\u001b[37m\u001b[0m \u001b[1m0s\u001b[0m 3ms/step - accuracy: 0.7699 - loss: 0.4497 - val_accuracy: 0.7116 - val_loss: 0.5762\n",
            "Epoch 49/256\n",
            "\u001b[1m127/128\u001b[0m \u001b[32m━━━━━━━━━━━━━━━━━━━\u001b[0m\u001b[37m━\u001b[0m \u001b[1m0s\u001b[0m 2ms/step - accuracy: 0.7842 - loss: 0.4518\n",
            "Epoch 49: val_loss did not improve from 0.57517\n",
            "\u001b[1m128/128\u001b[0m \u001b[32m━━━━━━━━━━━━━━━━━━━━\u001b[0m\u001b[37m\u001b[0m \u001b[1m1s\u001b[0m 3ms/step - accuracy: 0.7840 - loss: 0.4521 - val_accuracy: 0.7116 - val_loss: 0.5755\n",
            "Epoch 50/256\n",
            "\u001b[1m110/128\u001b[0m \u001b[32m━━━━━━━━━━━━━━━━━\u001b[0m\u001b[37m━━━\u001b[0m \u001b[1m0s\u001b[0m 2ms/step - accuracy: 0.7408 - loss: 0.4879\n",
            "Epoch 50: val_loss improved from 0.57517 to 0.57382, saving model to my_model.keras\n",
            "\u001b[1m128/128\u001b[0m \u001b[32m━━━━━━━━━━━━━━━━━━━━\u001b[0m\u001b[37m\u001b[0m \u001b[1m1s\u001b[0m 3ms/step - accuracy: 0.7444 - loss: 0.4843 - val_accuracy: 0.7179 - val_loss: 0.5738\n",
            "Epoch 51/256\n",
            "\u001b[1m106/128\u001b[0m \u001b[32m━━━━━━━━━━━━━━━━\u001b[0m\u001b[37m━━━━\u001b[0m \u001b[1m0s\u001b[0m 1ms/step - accuracy: 0.7624 - loss: 0.4667\n",
            "Epoch 51: val_loss improved from 0.57382 to 0.57246, saving model to my_model.keras\n",
            "\u001b[1m128/128\u001b[0m \u001b[32m━━━━━━━━━━━━━━━━━━━━\u001b[0m\u001b[37m\u001b[0m \u001b[1m0s\u001b[0m 2ms/step - accuracy: 0.7632 - loss: 0.4659 - val_accuracy: 0.7116 - val_loss: 0.5725\n",
            "Epoch 52/256\n",
            "\u001b[1m117/128\u001b[0m \u001b[32m━━━━━━━━━━━━━━━━━━\u001b[0m\u001b[37m━━\u001b[0m \u001b[1m0s\u001b[0m 2ms/step - accuracy: 0.7879 - loss: 0.4531\n",
            "Epoch 52: val_loss improved from 0.57246 to 0.57170, saving model to my_model.keras\n",
            "\u001b[1m128/128\u001b[0m \u001b[32m━━━━━━━━━━━━━━━━━━━━\u001b[0m\u001b[37m\u001b[0m \u001b[1m1s\u001b[0m 3ms/step - accuracy: 0.7862 - loss: 0.4540 - val_accuracy: 0.7179 - val_loss: 0.5717\n",
            "Epoch 53/256\n",
            "\u001b[1m109/128\u001b[0m \u001b[32m━━━━━━━━━━━━━━━━━\u001b[0m\u001b[37m━━━\u001b[0m \u001b[1m0s\u001b[0m 2ms/step - accuracy: 0.7740 - loss: 0.4682\n",
            "Epoch 53: val_loss improved from 0.57170 to 0.57103, saving model to my_model.keras\n",
            "\u001b[1m128/128\u001b[0m \u001b[32m━━━━━━━━━━━━━━━━━━━━\u001b[0m\u001b[37m\u001b[0m \u001b[1m1s\u001b[0m 3ms/step - accuracy: 0.7733 - loss: 0.4674 - val_accuracy: 0.7179 - val_loss: 0.5710\n",
            "Epoch 54/256\n",
            "\u001b[1m106/128\u001b[0m \u001b[32m━━━━━━━━━━━━━━━━\u001b[0m\u001b[37m━━━━\u001b[0m \u001b[1m0s\u001b[0m 2ms/step - accuracy: 0.7714 - loss: 0.4553\n",
            "Epoch 54: val_loss improved from 0.57103 to 0.56969, saving model to my_model.keras\n",
            "\u001b[1m128/128\u001b[0m \u001b[32m━━━━━━━━━━━━━━━━━━━━\u001b[0m\u001b[37m\u001b[0m \u001b[1m1s\u001b[0m 3ms/step - accuracy: 0.7716 - loss: 0.4568 - val_accuracy: 0.7210 - val_loss: 0.5697\n",
            "Epoch 55/256\n",
            "\u001b[1m106/128\u001b[0m \u001b[32m━━━━━━━━━━━━━━━━\u001b[0m\u001b[37m━━━━\u001b[0m \u001b[1m0s\u001b[0m 2ms/step - accuracy: 0.7734 - loss: 0.4492\n",
            "Epoch 55: val_loss improved from 0.56969 to 0.56880, saving model to my_model.keras\n",
            "\u001b[1m128/128\u001b[0m \u001b[32m━━━━━━━━━━━━━━━━━━━━\u001b[0m\u001b[37m\u001b[0m \u001b[1m1s\u001b[0m 3ms/step - accuracy: 0.7729 - loss: 0.4516 - val_accuracy: 0.7179 - val_loss: 0.5688\n",
            "Epoch 56/256\n",
            "\u001b[1m104/128\u001b[0m \u001b[32m━━━━━━━━━━━━━━━━\u001b[0m\u001b[37m━━━━\u001b[0m \u001b[1m0s\u001b[0m 2ms/step - accuracy: 0.7745 - loss: 0.4779\n",
            "Epoch 56: val_loss did not improve from 0.56880\n",
            "\u001b[1m128/128\u001b[0m \u001b[32m━━━━━━━━━━━━━━━━━━━━\u001b[0m\u001b[37m\u001b[0m \u001b[1m1s\u001b[0m 3ms/step - accuracy: 0.7750 - loss: 0.4750 - val_accuracy: 0.7179 - val_loss: 0.5694\n",
            "Epoch 57/256\n",
            "\u001b[1m101/128\u001b[0m \u001b[32m━━━━━━━━━━━━━━━\u001b[0m\u001b[37m━━━━━\u001b[0m \u001b[1m0s\u001b[0m 2ms/step - accuracy: 0.7623 - loss: 0.4946\n",
            "Epoch 57: val_loss did not improve from 0.56880\n",
            "\u001b[1m128/128\u001b[0m \u001b[32m━━━━━━━━━━━━━━━━━━━━\u001b[0m\u001b[37m\u001b[0m \u001b[1m1s\u001b[0m 3ms/step - accuracy: 0.7653 - loss: 0.4870 - val_accuracy: 0.7241 - val_loss: 0.5699\n",
            "Epoch 58/256\n",
            "\u001b[1m110/128\u001b[0m \u001b[32m━━━━━━━━━━━━━━━━━\u001b[0m\u001b[37m━━━\u001b[0m \u001b[1m0s\u001b[0m 2ms/step - accuracy: 0.7842 - loss: 0.4669\n",
            "Epoch 58: val_loss improved from 0.56880 to 0.56741, saving model to my_model.keras\n",
            "\u001b[1m128/128\u001b[0m \u001b[32m━━━━━━━━━━━━━━━━━━━━\u001b[0m\u001b[37m\u001b[0m \u001b[1m1s\u001b[0m 3ms/step - accuracy: 0.7844 - loss: 0.4650 - val_accuracy: 0.7210 - val_loss: 0.5674\n",
            "Epoch 59/256\n",
            "\u001b[1m121/128\u001b[0m \u001b[32m━━━━━━━━━━━━━━━━━━\u001b[0m\u001b[37m━━\u001b[0m \u001b[1m0s\u001b[0m 2ms/step - accuracy: 0.7887 - loss: 0.4564\n",
            "Epoch 59: val_loss improved from 0.56741 to 0.56676, saving model to my_model.keras\n",
            "\u001b[1m128/128\u001b[0m \u001b[32m━━━━━━━━━━━━━━━━━━━━\u001b[0m\u001b[37m\u001b[0m \u001b[1m1s\u001b[0m 3ms/step - accuracy: 0.7883 - loss: 0.4566 - val_accuracy: 0.7179 - val_loss: 0.5668\n",
            "Epoch 60/256\n",
            "\u001b[1m117/128\u001b[0m \u001b[32m━━━━━━━━━━━━━━━━━━\u001b[0m\u001b[37m━━\u001b[0m \u001b[1m0s\u001b[0m 1ms/step - accuracy: 0.7791 - loss: 0.4580\n",
            "Epoch 60: val_loss did not improve from 0.56676\n",
            "\u001b[1m128/128\u001b[0m \u001b[32m━━━━━━━━━━━━━━━━━━━━\u001b[0m\u001b[37m\u001b[0m \u001b[1m0s\u001b[0m 2ms/step - accuracy: 0.7789 - loss: 0.4583 - val_accuracy: 0.7210 - val_loss: 0.5671\n",
            "Epoch 61/256\n",
            "\u001b[1m127/128\u001b[0m \u001b[32m━━━━━━━━━━━━━━━━━━━\u001b[0m\u001b[37m━\u001b[0m \u001b[1m0s\u001b[0m 1ms/step - accuracy: 0.7935 - loss: 0.4318\n",
            "Epoch 61: val_loss did not improve from 0.56676\n",
            "\u001b[1m128/128\u001b[0m \u001b[32m━━━━━━━━━━━━━━━━━━━━\u001b[0m\u001b[37m\u001b[0m \u001b[1m0s\u001b[0m 2ms/step - accuracy: 0.7933 - loss: 0.4323 - val_accuracy: 0.7273 - val_loss: 0.5677\n",
            "Epoch 62/256\n",
            "\u001b[1m112/128\u001b[0m \u001b[32m━━━━━━━━━━━━━━━━━\u001b[0m\u001b[37m━━━\u001b[0m \u001b[1m0s\u001b[0m 1ms/step - accuracy: 0.7728 - loss: 0.4607\n",
            "Epoch 62: val_loss improved from 0.56676 to 0.56657, saving model to my_model.keras\n",
            "\u001b[1m128/128\u001b[0m \u001b[32m━━━━━━━━━━━━━━━━━━━━\u001b[0m\u001b[37m\u001b[0m \u001b[1m0s\u001b[0m 2ms/step - accuracy: 0.7738 - loss: 0.4608 - val_accuracy: 0.7210 - val_loss: 0.5666\n",
            "Epoch 63/256\n",
            "\u001b[1m 98/128\u001b[0m \u001b[32m━━━━━━━━━━━━━━━\u001b[0m\u001b[37m━━━━━\u001b[0m \u001b[1m0s\u001b[0m 2ms/step - accuracy: 0.8060 - loss: 0.4503\n",
            "Epoch 63: val_loss improved from 0.56657 to 0.56609, saving model to my_model.keras\n",
            "\u001b[1m128/128\u001b[0m \u001b[32m━━━━━━━━━━━━━━━━━━━━\u001b[0m\u001b[37m\u001b[0m \u001b[1m1s\u001b[0m 2ms/step - accuracy: 0.7994 - loss: 0.4520 - val_accuracy: 0.7179 - val_loss: 0.5661\n",
            "Epoch 64/256\n",
            "\u001b[1m100/128\u001b[0m \u001b[32m━━━━━━━━━━━━━━━\u001b[0m\u001b[37m━━━━━\u001b[0m \u001b[1m0s\u001b[0m 2ms/step - accuracy: 0.7482 - loss: 0.4891\n",
            "Epoch 64: val_loss did not improve from 0.56609\n",
            "\u001b[1m128/128\u001b[0m \u001b[32m━━━━━━━━━━━━━━━━━━━━\u001b[0m\u001b[37m\u001b[0m \u001b[1m1s\u001b[0m 2ms/step - accuracy: 0.7557 - loss: 0.4816 - val_accuracy: 0.7241 - val_loss: 0.5662\n",
            "Epoch 65/256\n",
            "\u001b[1m102/128\u001b[0m \u001b[32m━━━━━━━━━━━━━━━\u001b[0m\u001b[37m━━━━━\u001b[0m \u001b[1m0s\u001b[0m 2ms/step - accuracy: 0.8005 - loss: 0.4309\n",
            "Epoch 65: val_loss improved from 0.56609 to 0.56592, saving model to my_model.keras\n",
            "\u001b[1m128/128\u001b[0m \u001b[32m━━━━━━━━━━━━━━━━━━━━\u001b[0m\u001b[37m\u001b[0m \u001b[1m1s\u001b[0m 2ms/step - accuracy: 0.7967 - loss: 0.4365 - val_accuracy: 0.7304 - val_loss: 0.5659\n",
            "Epoch 66/256\n",
            "\u001b[1m117/128\u001b[0m \u001b[32m━━━━━━━━━━━━━━━━━━\u001b[0m\u001b[37m━━\u001b[0m \u001b[1m0s\u001b[0m 2ms/step - accuracy: 0.7832 - loss: 0.4408\n",
            "Epoch 66: val_loss did not improve from 0.56592\n",
            "\u001b[1m128/128\u001b[0m \u001b[32m━━━━━━━━━━━━━━━━━━━━\u001b[0m\u001b[37m\u001b[0m \u001b[1m0s\u001b[0m 2ms/step - accuracy: 0.7835 - loss: 0.4414 - val_accuracy: 0.7273 - val_loss: 0.5663\n",
            "Epoch 67/256\n",
            "\u001b[1m114/128\u001b[0m \u001b[32m━━━━━━━━━━━━━━━━━\u001b[0m\u001b[37m━━━\u001b[0m \u001b[1m0s\u001b[0m 2ms/step - accuracy: 0.7837 - loss: 0.4475\n",
            "Epoch 67: val_loss did not improve from 0.56592\n",
            "\u001b[1m128/128\u001b[0m \u001b[32m━━━━━━━━━━━━━━━━━━━━\u001b[0m\u001b[37m\u001b[0m \u001b[1m1s\u001b[0m 3ms/step - accuracy: 0.7838 - loss: 0.4481 - val_accuracy: 0.7210 - val_loss: 0.5676\n",
            "Epoch 68/256\n",
            "\u001b[1m118/128\u001b[0m \u001b[32m━━━━━━━━━━━━━━━━━━\u001b[0m\u001b[37m━━\u001b[0m \u001b[1m0s\u001b[0m 2ms/step - accuracy: 0.7839 - loss: 0.4491\n",
            "Epoch 68: val_loss did not improve from 0.56592\n",
            "\u001b[1m128/128\u001b[0m \u001b[32m━━━━━━━━━━━━━━━━━━━━\u001b[0m\u001b[37m\u001b[0m \u001b[1m1s\u001b[0m 3ms/step - accuracy: 0.7839 - loss: 0.4497 - val_accuracy: 0.7210 - val_loss: 0.5669\n",
            "Epoch 69/256\n",
            "\u001b[1m115/128\u001b[0m \u001b[32m━━━━━━━━━━━━━━━━━\u001b[0m\u001b[37m━━━\u001b[0m \u001b[1m0s\u001b[0m 2ms/step - accuracy: 0.7701 - loss: 0.4648\n",
            "Epoch 69: val_loss did not improve from 0.56592\n",
            "\u001b[1m128/128\u001b[0m \u001b[32m━━━━━━━━━━━━━━━━━━━━\u001b[0m\u001b[37m\u001b[0m \u001b[1m1s\u001b[0m 3ms/step - accuracy: 0.7715 - loss: 0.4635 - val_accuracy: 0.7241 - val_loss: 0.5673\n",
            "Epoch 70/256\n",
            "\u001b[1m111/128\u001b[0m \u001b[32m━━━━━━━━━━━━━━━━━\u001b[0m\u001b[37m━━━\u001b[0m \u001b[1m0s\u001b[0m 3ms/step - accuracy: 0.7888 - loss: 0.4512\n",
            "Epoch 70: val_loss did not improve from 0.56592\n",
            "\u001b[1m128/128\u001b[0m \u001b[32m━━━━━━━━━━━━━━━━━━━━\u001b[0m\u001b[37m\u001b[0m \u001b[1m1s\u001b[0m 4ms/step - accuracy: 0.7878 - loss: 0.4517 - val_accuracy: 0.7241 - val_loss: 0.5673\n",
            "Epoch 71/256\n",
            "\u001b[1m112/128\u001b[0m \u001b[32m━━━━━━━━━━━━━━━━━\u001b[0m\u001b[37m━━━\u001b[0m \u001b[1m0s\u001b[0m 3ms/step - accuracy: 0.7669 - loss: 0.4841\n",
            "Epoch 71: val_loss did not improve from 0.56592\n",
            "\u001b[1m128/128\u001b[0m \u001b[32m━━━━━━━━━━━━━━━━━━━━\u001b[0m\u001b[37m\u001b[0m \u001b[1m1s\u001b[0m 4ms/step - accuracy: 0.7689 - loss: 0.4802 - val_accuracy: 0.7210 - val_loss: 0.5682\n",
            "Epoch 72/256\n",
            "\u001b[1m125/128\u001b[0m \u001b[32m━━━━━━━━━━━━━━━━━━━\u001b[0m\u001b[37m━\u001b[0m \u001b[1m0s\u001b[0m 2ms/step - accuracy: 0.7993 - loss: 0.4410\n",
            "Epoch 72: val_loss did not improve from 0.56592\n",
            "\u001b[1m128/128\u001b[0m \u001b[32m━━━━━━━━━━━━━━━━━━━━\u001b[0m\u001b[37m\u001b[0m \u001b[1m0s\u001b[0m 2ms/step - accuracy: 0.7987 - loss: 0.4414 - val_accuracy: 0.7241 - val_loss: 0.5678\n",
            "Epoch 73/256\n",
            "\u001b[1m126/128\u001b[0m \u001b[32m━━━━━━━━━━━━━━━━━━━\u001b[0m\u001b[37m━\u001b[0m \u001b[1m0s\u001b[0m 2ms/step - accuracy: 0.7852 - loss: 0.4455\n",
            "Epoch 73: val_loss did not improve from 0.56592\n",
            "\u001b[1m128/128\u001b[0m \u001b[32m━━━━━━━━━━━━━━━━━━━━\u001b[0m\u001b[37m\u001b[0m \u001b[1m0s\u001b[0m 2ms/step - accuracy: 0.7853 - loss: 0.4456 - val_accuracy: 0.7210 - val_loss: 0.5681\n",
            "Epoch 74/256\n",
            "\u001b[1m119/128\u001b[0m \u001b[32m━━━━━━━━━━━━━━━━━━\u001b[0m\u001b[37m━━\u001b[0m \u001b[1m0s\u001b[0m 2ms/step - accuracy: 0.8077 - loss: 0.4380\n",
            "Epoch 74: val_loss did not improve from 0.56592\n",
            "\u001b[1m128/128\u001b[0m \u001b[32m━━━━━━━━━━━━━━━━━━━━\u001b[0m\u001b[37m\u001b[0m \u001b[1m0s\u001b[0m 2ms/step - accuracy: 0.8058 - loss: 0.4392 - val_accuracy: 0.7147 - val_loss: 0.5671\n",
            "Epoch 75/256\n",
            "\u001b[1m128/128\u001b[0m \u001b[32m━━━━━━━━━━━━━━━━━━━━\u001b[0m\u001b[37m\u001b[0m \u001b[1m0s\u001b[0m 2ms/step - accuracy: 0.7837 - loss: 0.4488\n",
            "Epoch 75: val_loss did not improve from 0.56592\n",
            "\u001b[1m128/128\u001b[0m \u001b[32m━━━━━━━━━━━━━━━━━━━━\u001b[0m\u001b[37m\u001b[0m \u001b[1m1s\u001b[0m 2ms/step - accuracy: 0.7837 - loss: 0.4489 - val_accuracy: 0.7179 - val_loss: 0.5663\n",
            "Epoch 76/256\n",
            "\u001b[1m126/128\u001b[0m \u001b[32m━━━━━━━━━━━━━━━━━━━\u001b[0m\u001b[37m━\u001b[0m \u001b[1m0s\u001b[0m 2ms/step - accuracy: 0.7896 - loss: 0.4589\n",
            "Epoch 76: val_loss did not improve from 0.56592\n",
            "\u001b[1m128/128\u001b[0m \u001b[32m━━━━━━━━━━━━━━━━━━━━\u001b[0m\u001b[37m\u001b[0m \u001b[1m1s\u001b[0m 2ms/step - accuracy: 0.7896 - loss: 0.4587 - val_accuracy: 0.7210 - val_loss: 0.5665\n",
            "Epoch 77/256\n",
            "\u001b[1m102/128\u001b[0m \u001b[32m━━━━━━━━━━━━━━━\u001b[0m\u001b[37m━━━━━\u001b[0m \u001b[1m0s\u001b[0m 2ms/step - accuracy: 0.7820 - loss: 0.4660\n",
            "Epoch 77: val_loss did not improve from 0.56592\n",
            "\u001b[1m128/128\u001b[0m \u001b[32m━━━━━━━━━━━━━━━━━━━━\u001b[0m\u001b[37m\u001b[0m \u001b[1m0s\u001b[0m 2ms/step - accuracy: 0.7834 - loss: 0.4627 - val_accuracy: 0.7147 - val_loss: 0.5666\n",
            "Epoch 78/256\n",
            "\u001b[1m122/128\u001b[0m \u001b[32m━━━━━━━━━━━━━━━━━━━\u001b[0m\u001b[37m━\u001b[0m \u001b[1m0s\u001b[0m 2ms/step - accuracy: 0.7954 - loss: 0.4430\n",
            "Epoch 78: val_loss did not improve from 0.56592\n",
            "\u001b[1m128/128\u001b[0m \u001b[32m━━━━━━━━━━━━━━━━━━━━\u001b[0m\u001b[37m\u001b[0m \u001b[1m1s\u001b[0m 2ms/step - accuracy: 0.7951 - loss: 0.4434 - val_accuracy: 0.7147 - val_loss: 0.5678\n",
            "Epoch 79/256\n",
            "\u001b[1m123/128\u001b[0m \u001b[32m━━━━━━━━━━━━━━━━━━━\u001b[0m\u001b[37m━\u001b[0m \u001b[1m0s\u001b[0m 2ms/step - accuracy: 0.7985 - loss: 0.4424\n",
            "Epoch 79: val_loss did not improve from 0.56592\n",
            "\u001b[1m128/128\u001b[0m \u001b[32m━━━━━━━━━━━━━━━━━━━━\u001b[0m\u001b[37m\u001b[0m \u001b[1m1s\u001b[0m 2ms/step - accuracy: 0.7979 - loss: 0.4427 - val_accuracy: 0.7179 - val_loss: 0.5691\n",
            "Epoch 80/256\n",
            "\u001b[1m 98/128\u001b[0m \u001b[32m━━━━━━━━━━━━━━━\u001b[0m\u001b[37m━━━━━\u001b[0m \u001b[1m0s\u001b[0m 2ms/step - accuracy: 0.7721 - loss: 0.4559\n",
            "Epoch 80: val_loss did not improve from 0.56592\n",
            "\u001b[1m128/128\u001b[0m \u001b[32m━━━━━━━━━━━━━━━━━━━━\u001b[0m\u001b[37m\u001b[0m \u001b[1m1s\u001b[0m 2ms/step - accuracy: 0.7748 - loss: 0.4552 - val_accuracy: 0.7179 - val_loss: 0.5699\n",
            "Epoch 81/256\n",
            "\u001b[1m101/128\u001b[0m \u001b[32m━━━━━━━━━━━━━━━\u001b[0m\u001b[37m━━━━━\u001b[0m \u001b[1m0s\u001b[0m 2ms/step - accuracy: 0.7845 - loss: 0.4583\n",
            "Epoch 81: val_loss did not improve from 0.56592\n",
            "\u001b[1m128/128\u001b[0m \u001b[32m━━━━━━━━━━━━━━━━━━━━\u001b[0m\u001b[37m\u001b[0m \u001b[1m0s\u001b[0m 2ms/step - accuracy: 0.7846 - loss: 0.4565 - val_accuracy: 0.7179 - val_loss: 0.5701\n",
            "Epoch 82/256\n",
            "\u001b[1m102/128\u001b[0m \u001b[32m━━━━━━━━━━━━━━━\u001b[0m\u001b[37m━━━━━\u001b[0m \u001b[1m0s\u001b[0m 2ms/step - accuracy: 0.8019 - loss: 0.4411\n",
            "Epoch 82: val_loss did not improve from 0.56592\n",
            "\u001b[1m128/128\u001b[0m \u001b[32m━━━━━━━━━━━━━━━━━━━━\u001b[0m\u001b[37m\u001b[0m \u001b[1m1s\u001b[0m 2ms/step - accuracy: 0.7989 - loss: 0.4434 - val_accuracy: 0.7179 - val_loss: 0.5699\n",
            "Epoch 83/256\n",
            "\u001b[1m 99/128\u001b[0m \u001b[32m━━━━━━━━━━━━━━━\u001b[0m\u001b[37m━━━━━\u001b[0m \u001b[1m0s\u001b[0m 2ms/step - accuracy: 0.8017 - loss: 0.4391\n",
            "Epoch 83: val_loss did not improve from 0.56592\n",
            "\u001b[1m128/128\u001b[0m \u001b[32m━━━━━━━━━━━━━━━━━━━━\u001b[0m\u001b[37m\u001b[0m \u001b[1m0s\u001b[0m 2ms/step - accuracy: 0.7993 - loss: 0.4406 - val_accuracy: 0.7179 - val_loss: 0.5700\n",
            "Epoch 84/256\n",
            "\u001b[1m 99/128\u001b[0m \u001b[32m━━━━━━━━━━━━━━━\u001b[0m\u001b[37m━━━━━\u001b[0m \u001b[1m0s\u001b[0m 2ms/step - accuracy: 0.7735 - loss: 0.4616\n",
            "Epoch 84: val_loss did not improve from 0.56592\n",
            "\u001b[1m128/128\u001b[0m \u001b[32m━━━━━━━━━━━━━━━━━━━━\u001b[0m\u001b[37m\u001b[0m \u001b[1m1s\u001b[0m 2ms/step - accuracy: 0.7764 - loss: 0.4585 - val_accuracy: 0.7179 - val_loss: 0.5702\n",
            "Epoch 85/256\n",
            "\u001b[1m125/128\u001b[0m \u001b[32m━━━━━━━━━━━━━━━━━━━\u001b[0m\u001b[37m━\u001b[0m \u001b[1m0s\u001b[0m 2ms/step - accuracy: 0.7982 - loss: 0.4284\n",
            "Epoch 85: val_loss did not improve from 0.56592\n",
            "\u001b[1m128/128\u001b[0m \u001b[32m━━━━━━━━━━━━━━━━━━━━\u001b[0m\u001b[37m\u001b[0m \u001b[1m0s\u001b[0m 2ms/step - accuracy: 0.7978 - loss: 0.4291 - val_accuracy: 0.7179 - val_loss: 0.5701\n",
            "Epoch 85: early stopping\n"
          ]
        }
      ]
    },
    {
      "cell_type": "code",
      "source": [
        "print(history.params)\n",
        "#prints all the parameters in the history variable"
      ],
      "metadata": {
        "colab": {
          "base_uri": "https://localhost:8080/"
        },
        "id": "ZgK90zvsftYN",
        "outputId": "85d36d8c-2463-4abb-d80c-353076767082"
      },
      "execution_count": 26,
      "outputs": [
        {
          "output_type": "stream",
          "name": "stdout",
          "text": [
            "{'verbose': 'auto', 'epochs': 256, 'steps': 128}\n"
          ]
        }
      ]
    },
    {
      "cell_type": "code",
      "source": [
        "plt.plot(history.history['accuracy'])\n",
        "plt.plot(history.history['val_accuracy'])\n",
        "plt.ylabel('Accuracy')\n",
        "plt.xlabel('epoch')\n",
        "plt.legend(['train','val'],loc='upper left')\n",
        "plt.show()\n",
        "\n",
        "#we are ploting the validation and trained data"
      ],
      "metadata": {
        "colab": {
          "base_uri": "https://localhost:8080/",
          "height": 452
        },
        "id": "b7iNRz_KgOFe",
        "outputId": "cd915a8d-cf99-4b1b-8c31-5f53573c6061"
      },
      "execution_count": 27,
      "outputs": [
        {
          "output_type": "display_data",
          "data": {
            "text/plain": [
              "<Figure size 640x480 with 1 Axes>"
            ],
            "image/png": "[encoded data removed]"
          },
          "metadata": {}
        }
      ]
    },
    {
      "cell_type": "code",
      "source": [
        "model.load_weights('my_model.keras')\n",
        "#we are retrieve the data from the model"
      ],
      "metadata": {
        "id": "BPx7d-Cunu0H"
      },
      "execution_count": 28,
      "outputs": []
    },
    {
      "cell_type": "code",
      "source": [
        "scores =model.evaluate(X_val,Y_val)\n",
        "print(model.metrics_names)\n",
        "print(scores)\n",
        "print(\"\\n%s: %.2f%%\" %(model.metrics_names[1],scores[1]*100))"
      ],
      "metadata": {
        "colab": {
          "base_uri": "https://localhost:8080/"
        },
        "id": "d9qzETFVn52M",
        "outputId": "523cc446-cc42-42a2-ebf4-c8232b09bbe7"
      },
      "execution_count": 29,
      "outputs": [
        {
          "output_type": "stream",
          "name": "stdout",
          "text": [
            "\u001b[1m10/10\u001b[0m \u001b[32m━━━━━━━━━━━━━━━━━━━━\u001b[0m\u001b[37m\u001b[0m \u001b[1m0s\u001b[0m 2ms/step - accuracy: 0.7058 - loss: 0.5821 \n",
            "['loss', 'compile_metrics']\n",
            "[0.5659225583076477, 0.7304075360298157]\n",
            "\n",
            "compile_metrics: 73.04%\n"
          ]
        }
      ]
    },
    {
      "cell_type": "code",
      "source": [
        "print(X_val[0:5])"
      ],
      "metadata": {
        "colab": {
          "base_uri": "https://localhost:8080/"
        },
        "id": "hfmCyOgbse9N",
        "outputId": "a11409ee-66a2-4b63-ebec-ae15054a2acb"
      },
      "execution_count": 30,
      "outputs": [
        {
          "output_type": "stream",
          "name": "stdout",
          "text": [
            "[[-0.55 0.99 -1.43 -0.45 -0.23 -0.47 -0.32 0.56 1.31 -0.62 -1.07]\n",
            " [-0.33 2.00 -1.43 0.02 0.35 0.83 0.72 0.06 -0.70 0.19 -0.70]\n",
            " [-0.33 1.33 -1.23 -0.18 0.19 -0.10 0.31 0.16 -0.31 -0.01 -0.70]\n",
            " [1.57 -1.36 1.44 -0.45 -0.25 0.09 0.50 0.66 -0.96 -0.48 -0.70]\n",
            " [-0.55 0.99 -1.43 -0.45 -0.23 -0.47 -0.32 0.56 1.31 -0.62 -1.07]]\n"
          ]
        }
      ]
    },
    {
      "cell_type": "code",
      "source": [
        "print(Y_val[0:5])"
      ],
      "metadata": {
        "colab": {
          "base_uri": "https://localhost:8080/"
        },
        "id": "vb3_4fI65ITx",
        "outputId": "17b7e771-08e9-41f8-cbe9-08b6143dc0b8"
      },
      "execution_count": 31,
      "outputs": [
        {
          "output_type": "stream",
          "name": "stdout",
          "text": [
            "[0.00 0.00 0.00 1.00 0.00]\n"
          ]
        }
      ]
    },
    {
      "cell_type": "code",
      "source": [
        "prediction=model.predict(X_val)\n",
        "print(prediction[0:30])"
      ],
      "metadata": {
        "colab": {
          "base_uri": "https://localhost:8080/"
        },
        "id": "8hlmAvIC5LCj",
        "outputId": "2272bd58-eb62-4b79-ba80-ff823bf08a05",
        "collapsed": true
      },
      "execution_count": 32,
      "outputs": [
        {
          "output_type": "stream",
          "name": "stdout",
          "text": [
            "\u001b[1m10/10\u001b[0m \u001b[32m━━━━━━━━━━━━━━━━━━━━\u001b[0m\u001b[37m\u001b[0m \u001b[1m0s\u001b[0m 5ms/step \n",
            "[[0.15]\n",
            " [0.36]\n",
            " [0.47]\n",
            " [0.65]\n",
            " [0.15]\n",
            " [0.17]\n",
            " [0.13]\n",
            " [0.20]\n",
            " [0.32]\n",
            " [0.70]\n",
            " [0.21]\n",
            " [0.70]\n",
            " [0.23]\n",
            " [0.59]\n",
            " [0.03]\n",
            " [0.03]\n",
            " [0.47]\n",
            " [0.18]\n",
            " [0.12]\n",
            " [0.19]\n",
            " [0.54]\n",
            " [0.42]\n",
            " [0.76]\n",
            " [0.41]\n",
            " [0.60]\n",
            " [0.38]\n",
            " [0.32]\n",
            " [0.76]\n",
            " [0.14]\n",
            " [0.36]]\n"
          ]
        }
      ]
    },
    {
      "cell_type": "code",
      "source": [
        "print(prediction[0:30].round())"
      ],
      "metadata": {
        "colab": {
          "base_uri": "https://localhost:8080/"
        },
        "id": "sRDP1KAM5kcq",
        "outputId": "9571b6d0-df33-464a-df8c-9d7589b54cc2",
        "collapsed": true
      },
      "execution_count": 33,
      "outputs": [
        {
          "output_type": "stream",
          "name": "stdout",
          "text": [
            "[[0.00]\n",
            " [0.00]\n",
            " [0.00]\n",
            " [1.00]\n",
            " [0.00]\n",
            " [0.00]\n",
            " [0.00]\n",
            " [0.00]\n",
            " [0.00]\n",
            " [1.00]\n",
            " [0.00]\n",
            " [1.00]\n",
            " [0.00]\n",
            " [1.00]\n",
            " [0.00]\n",
            " [0.00]\n",
            " [0.00]\n",
            " [0.00]\n",
            " [0.00]\n",
            " [0.00]\n",
            " [1.00]\n",
            " [0.00]\n",
            " [1.00]\n",
            " [0.00]\n",
            " [1.00]\n",
            " [0.00]\n",
            " [0.00]\n",
            " [1.00]\n",
            " [0.00]\n",
            " [0.00]]\n"
          ]
        }
      ]
    },
    {
      "cell_type": "code",
      "source": [
        "plt.plot(Y_val,prediction,'.',alpha=0.5)\n",
        "plt.xlabel('Actual')\n",
        "plt.ylabel('Predicted')\n",
        "plt.show()"
      ],
      "metadata": {
        "colab": {
          "base_uri": "https://localhost:8080/",
          "height": 449
        },
        "id": "dWtQtEiS6PWw",
        "outputId": "4ffa260e-1cab-4716-b36a-cf1f5d7edbd7"
      },
      "execution_count": 34,
      "outputs": [
        {
          "output_type": "display_data",
          "data": {
            "text/plain": [
              "<Figure size 640x480 with 1 Axes>"
            ],
            "image/png": "[encoded data removed]"
          },
          "metadata": {}
        }
      ]
    },
    {
      "cell_type": "code",
      "source": [
        "from sklearn.metrics import accuracy_score,precision_score,recall_score,f1_score\n",
        "\n",
        "accuracy=accuracy_score(Y_val,prediction.round())\n",
        "print('Accuracy:',accuracy)\n",
        "\n",
        "precision=precision_score(Y_val,prediction.round())\n",
        "print('Precision:',precision)\n",
        "\n",
        "recall=recall_score(Y_val,prediction.round())\n",
        "print('Recall:',recall)\n",
        "\n",
        "f1=f1_score(Y_val,prediction.round())\n",
        "print('F1:',f1)"
      ],
      "metadata": {
        "colab": {
          "base_uri": "https://localhost:8080/"
        },
        "id": "jHdMvGYn6yM8",
        "outputId": "8eb4e7bf-0096-4584-a90d-6439cc6af0db"
      },
      "execution_count": 35,
      "outputs": [
        {
          "output_type": "stream",
          "name": "stdout",
          "text": [
            "Accuracy: 0.7304075235109718\n",
            "Precision: 0.6792452830188679\n",
            "Recall: 0.5806451612903226\n",
            "F1: 0.6260869565217392\n"
          ]
        }
      ]
    }
  ]
}